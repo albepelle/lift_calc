{
 "cells": [
  {
   "cell_type": "code",
   "execution_count": 5,
   "metadata": {},
   "outputs": [],
   "source": [
    "import pandas as pd\n",
    "import numpy as np\n",
    "import seaborn as ns\n",
    "import matplotlib.pyplot as plt\n",
    "import teradata \n",
    "udaExec = teradata.UdaExec ()\n",
    "\n",
    "entain=r'C:/Users/apelle/.matplotlib/entain.mplstyle'\n",
    "plt.style.use(entain)\n"
   ]
  },
  {
   "cell_type": "code",
   "execution_count": 7,
   "metadata": {},
   "outputs": [],
   "source": [
    "query='''\n",
    "\n",
    "with CLV as (\n",
    "SEL TOP 1600\n",
    "scores.player_id,\n",
    "scores.snapshot_date,\n",
    "scores.model_score,\n",
    "dc.Country_Desc\n",
    "FROM dwprodviewsppmbi.Model_Daily_scores scores \n",
    "JOIN dim_player dp ON scores.player_id = dp.player_id\n",
    "JOIN Dim_Player_Account dpa ON dpa.player_id = scores.player_id\n",
    "JOIN Dim_Country dc ON dpa.country_Cd=dc.Country_CD\n",
    "LEFT JOIN Dim_Player_Segmentation dps ON dp.player_id = dps.player_id\t\t\t\t\t\t\t\t\t\t\t\t\t\t\n",
    "LEFT JOIN Dim_Product dprod ON dps.Primary_Wh_Product_Cd = dprod.wh_product_cd\t\n",
    "WHERE 1 = 1\n",
    "AND  scores.snapshot_date =DATE-1\n",
    "AND scores.player_id >0 \n",
    "AND model_description_id IS IN (1,5,9)\n",
    "AND dp.front_end_cd IN ('pp','pi','py','pe') \n",
    "AND dprod.Product_Desc = 'Casino'\n",
    "AND dc.Country_Desc NOT IN ('united kingdom','Finland','Belarus','Russian Federation','Gibraltar','Sweden','Denmark')\n",
    "AND model_score >= 4000\n",
    "\n",
    "ORDER BY model_score DESC\n",
    ")\n",
    ",\n",
    "\n",
    "player AS \n",
    "(SEL CASE WHEN clv. player_id IS NULL THEN dplh.player_id ELSE clv.player_id END  player_id,\n",
    "CASE WHEN clv.player_id IS NULL THEN 'not in clv' ELSE 'in_clv' END AS in_out,\n",
    "CASE WHEN dplh.Host_Agent_First_Name='VIP NOT Hosted' THEN 'non hosted picked'\n",
    "WHEN dplh.Host_Agent_First_Name IS NULL THEN 'CLV picked' \n",
    "ELSE 'Managed' END AS player_status\n",
    "\n",
    "FROM clv\n",
    "Full outer JOIN (SEL * FROM DIM_PLAYER_HOST_LOG dplh \n",
    "WHERE host_agent_team IN ('PartyCasino VIP',\n",
    "'Partycasino Vip team') AND host_end_date>=DATE-1 )  dplh ON clv.player_id=dplh.Player_Id\n",
    ")\n",
    "\n",
    "\n",
    "\n",
    "SEL \n",
    "\n",
    "player_x.*,\n",
    "per.played_months,\n",
    "per.average_montlhy_ngr,\n",
    "per.total_ngr_last_12m\n",
    "\n",
    "\n",
    "FROM\n",
    "\n",
    "\n",
    "(\n",
    "SEL player.*,\n",
    "login_name_Txt,\n",
    "CASE WHEN  conversion_date >=DATE-14 THEN 'New player' ELSE ''  END AS NEW_PLAYER,\n",
    "Dp.registration_date,\n",
    "country_Desc,\n",
    "\n",
    "pp.clvgbp\n",
    "\n",
    "\n",
    "FROM player\n",
    "JOIN Dim_Player dp ON player.player_id = dp.PLAYER_ID\n",
    "JOIN Dim_Player_Account dpa ON dp.Player_Id=dpa.Player_Id\n",
    "JOIN Dim_Country dc ON dpa.Country_Cd=dc.Country_CD\n",
    "\n",
    "LEFT JOIN (\n",
    "SELECT\t \n",
    "player_id,\n",
    "\n",
    "\n",
    "mds.snapshot_date,\n",
    "\n",
    "SUM(CASE WHEN model_description_id IN (3,7,11) THEN model_score ELSE NULL end) CLV_Casino_New,\n",
    "SUM(CASE WHEN model_description_id IN (3,7,11) THEN model_score * conversion_rate ELSE 0 end)   AS CLVGBP\n",
    "FROM\n",
    "dwprodviewsppmbi.Model_Daily_Scores mds\n",
    "\n",
    "LEFT JOIN \n",
    "\n",
    "(\n",
    "SELECT\tfx.conversion_rate,\n",
    "                 snapshot_date\t\n",
    "FROM DWPRODVIEWSMSTR.Dim_Fx_Snapshot fx\n",
    "WHERE fx.From_Curr_Cd = 'EUR'\n",
    "\tAND fx.to_curr_cd = 'GBP'\n",
    "\tAND fx.Snapshot_Date >= '2021-01-01' )  fx \n",
    "\tON mds.snapshot_date = fx.snapshot_date\n",
    "\n",
    "\n",
    "WHERE model_description_id IN (3,7,11)\n",
    "AND mds.snapshot_date = DATE-1\n",
    "GROUP BY 1,2\n",
    "\n",
    ") pp  ON player.player_id=pp.player_id\n",
    ") player_x\n",
    " \n",
    " LEFT JOIN ( SEL \n",
    "\n",
    "player_id,\n",
    "COUNT(DISTINCT summary_month_Date) played_months,\n",
    "SUM(ngr_amt_gbp) total_ngr_last_12m,\n",
    "SUM(ngr_amt_gbp)/COUNT(DISTINCT summary_month_Date) average_montlhy_ngr\n",
    "\n",
    "FROM FM_Player_Summary fps \n",
    "\n",
    "JOIN Dim_Skin ds ON fps.Wh_Skin_Id=ds.Wh_Skin_Id\n",
    "WHERE fps.Summary_Month_Date BETWEEN ADD_MONTHS ( ( DATE - EXTRACT(DAY FROM DATE)+ 1),-12) AND ADD_MONTHS ( ( DATE - EXTRACT(DAY FROM DATE)+ 1),-1) \n",
    "AND ds.Wh_Product_Cd=2\n",
    "\n",
    "GROUP BY 1) per ON player_x.player_id=per.player_id\n",
    "'''"
   ]
  },
  {
   "cell_type": "code",
   "execution_count": 8,
   "metadata": {},
   "outputs": [],
   "source": [
    "#Run query\n",
    "with udaExec.connect(\"${dataSourceName}\") as session:\n",
    "    \n",
    "    df=pd.read_sql_query(query,session)\n",
    "\n",
    "session.close()"
   ]
  },
  {
   "cell_type": "code",
   "execution_count": 9,
   "metadata": {},
   "outputs": [
    {
     "data": {
      "text/html": [
       "<div>\n",
       "<style scoped>\n",
       "    .dataframe tbody tr th:only-of-type {\n",
       "        vertical-align: middle;\n",
       "    }\n",
       "\n",
       "    .dataframe tbody tr th {\n",
       "        vertical-align: top;\n",
       "    }\n",
       "\n",
       "    .dataframe thead th {\n",
       "        text-align: right;\n",
       "    }\n",
       "</style>\n",
       "<table border=\"1\" class=\"dataframe\">\n",
       "  <thead>\n",
       "    <tr style=\"text-align: right;\">\n",
       "      <th></th>\n",
       "      <th>player_id</th>\n",
       "      <th>in_out</th>\n",
       "      <th>player_status</th>\n",
       "      <th>Login_Name_Txt</th>\n",
       "      <th>NEW_PLAYER</th>\n",
       "      <th>Registration_Date</th>\n",
       "      <th>Country_Desc</th>\n",
       "      <th>CLVGBP</th>\n",
       "      <th>played_months</th>\n",
       "      <th>average_montlhy_ngr</th>\n",
       "      <th>total_ngr_last_12m</th>\n",
       "    </tr>\n",
       "  </thead>\n",
       "  <tbody>\n",
       "    <tr>\n",
       "      <th>0</th>\n",
       "      <td>22300035.0</td>\n",
       "      <td>not in clv</td>\n",
       "      <td>non hosted picked</td>\n",
       "      <td>pp_pepirocks</td>\n",
       "      <td></td>\n",
       "      <td>2006-11-26</td>\n",
       "      <td>Austria</td>\n",
       "      <td>5162.013115</td>\n",
       "      <td>12.0</td>\n",
       "      <td>471.42592</td>\n",
       "      <td>5657.11099</td>\n",
       "    </tr>\n",
       "    <tr>\n",
       "      <th>1</th>\n",
       "      <td>555810875.0</td>\n",
       "      <td>in_clv</td>\n",
       "      <td>non hosted picked</td>\n",
       "      <td>pp_Tayo448844</td>\n",
       "      <td></td>\n",
       "      <td>2021-01-02</td>\n",
       "      <td>Canada</td>\n",
       "      <td>4597.224115</td>\n",
       "      <td>11.0</td>\n",
       "      <td>904.28291</td>\n",
       "      <td>9947.11205</td>\n",
       "    </tr>\n",
       "    <tr>\n",
       "      <th>2</th>\n",
       "      <td>558371035.0</td>\n",
       "      <td>not in clv</td>\n",
       "      <td>Managed</td>\n",
       "      <td>pe_The_pink</td>\n",
       "      <td></td>\n",
       "      <td>2021-02-25</td>\n",
       "      <td>Spain</td>\n",
       "      <td>1018.313774</td>\n",
       "      <td>9.0</td>\n",
       "      <td>-429.58963</td>\n",
       "      <td>-3866.30666</td>\n",
       "    </tr>\n",
       "    <tr>\n",
       "      <th>3</th>\n",
       "      <td>529569437.0</td>\n",
       "      <td>in_clv</td>\n",
       "      <td>non hosted picked</td>\n",
       "      <td>pp_Terry952</td>\n",
       "      <td></td>\n",
       "      <td>2019-12-18</td>\n",
       "      <td>Canada</td>\n",
       "      <td>11158.152261</td>\n",
       "      <td>2.0</td>\n",
       "      <td>4979.28145</td>\n",
       "      <td>9958.56289</td>\n",
       "    </tr>\n",
       "    <tr>\n",
       "      <th>4</th>\n",
       "      <td>21804183.0</td>\n",
       "      <td>not in clv</td>\n",
       "      <td>Managed</td>\n",
       "      <td>pp_ph1501</td>\n",
       "      <td></td>\n",
       "      <td>2006-10-28</td>\n",
       "      <td>Austria</td>\n",
       "      <td>NaN</td>\n",
       "      <td>NaN</td>\n",
       "      <td>NaN</td>\n",
       "      <td>NaN</td>\n",
       "    </tr>\n",
       "  </tbody>\n",
       "</table>\n",
       "</div>"
      ],
      "text/plain": [
       "     player_id      in_out      player_status Login_Name_Txt NEW_PLAYER  \\\n",
       "0   22300035.0  not in clv  non hosted picked   pp_pepirocks              \n",
       "1  555810875.0      in_clv  non hosted picked  pp_Tayo448844              \n",
       "2  558371035.0  not in clv            Managed    pe_The_pink              \n",
       "3  529569437.0      in_clv  non hosted picked    pp_Terry952              \n",
       "4   21804183.0  not in clv            Managed      pp_ph1501              \n",
       "\n",
       "  Registration_Date Country_Desc        CLVGBP  played_months  \\\n",
       "0        2006-11-26      Austria   5162.013115           12.0   \n",
       "1        2021-01-02       Canada   4597.224115           11.0   \n",
       "2        2021-02-25        Spain   1018.313774            9.0   \n",
       "3        2019-12-18       Canada  11158.152261            2.0   \n",
       "4        2006-10-28      Austria           NaN            NaN   \n",
       "\n",
       "   average_montlhy_ngr  total_ngr_last_12m  \n",
       "0            471.42592          5657.11099  \n",
       "1            904.28291          9947.11205  \n",
       "2           -429.58963         -3866.30666  \n",
       "3           4979.28145          9958.56289  \n",
       "4                  NaN                 NaN  "
      ]
     },
     "execution_count": 9,
     "metadata": {},
     "output_type": "execute_result"
    }
   ],
   "source": [
    "df.head()"
   ]
  },
  {
   "cell_type": "code",
   "execution_count": 12,
   "metadata": {},
   "outputs": [
    {
     "name": "stdout",
     "output_type": "stream",
     "text": [
      "<class 'pandas.core.frame.DataFrame'>\n",
      "RangeIndex: 2852 entries, 0 to 2851\n",
      "Data columns (total 13 columns):\n",
      " #   Column               Non-Null Count  Dtype  \n",
      "---  ------               --------------  -----  \n",
      " 0   player_id            2852 non-null   float64\n",
      " 1   in_out               2852 non-null   object \n",
      " 2   player_status        2852 non-null   object \n",
      " 3   Login_Name_Txt       2852 non-null   object \n",
      " 4   NEW_PLAYER           2852 non-null   object \n",
      " 5   Registration_Date    2852 non-null   object \n",
      " 6   Country_Desc         2852 non-null   object \n",
      " 7   CLVGBP               2713 non-null   float64\n",
      " 8   played_months        2705 non-null   float64\n",
      " 9   average_montlhy_ngr  2705 non-null   float64\n",
      " 10  total_ngr_last_12m   2705 non-null   float64\n",
      " 11  est_CLV              2713 non-null   float64\n",
      " 12  player_n             2852 non-null   int64  \n",
      "dtypes: float64(6), int64(1), object(6)\n",
      "memory usage: 289.8+ KB\n"
     ]
    }
   ],
   "source": [
    "df.columns=df.columns.str.replace(' ','')\n",
    "df=df.replace(\"'\",'')\n",
    "df.rename(columns={'Summary_Date':'date'},inplace=True)\n",
    "df.info()"
   ]
  },
  {
   "cell_type": "code",
   "execution_count": 11,
   "metadata": {},
   "outputs": [],
   "source": [
    "df['est_CLV']= df['CLVGBP']/12\n",
    "df['player_n']=1"
   ]
  },
  {
   "cell_type": "code",
   "execution_count": 10,
   "metadata": {},
   "outputs": [],
   "source": [
    "from matplotlib_venn import venn2, venn2_circles, venn2_unweighted\n",
    "from matplotlib_venn import venn3, venn3_circles"
   ]
  },
  {
   "cell_type": "code",
   "execution_count": 16,
   "metadata": {},
   "outputs": [
    {
     "data": {
      "text/plain": [
       "array(['CLV picked', 'Managed', 'non hosted picked'], dtype=object)"
      ]
     },
     "execution_count": 16,
     "metadata": {},
     "output_type": "execute_result"
    }
   ],
   "source": [
    "df.player_status.unique()"
   ]
  },
  {
   "cell_type": "code",
   "execution_count": 13,
   "metadata": {},
   "outputs": [],
   "source": [
    "vit_prosp=df[(df['player_status']=='non hosted picked') & (df['in_out']=='not in clv')]\n",
    "prosp_overlap=df[(df['player_status']=='non hosted picked') & (df['in_out']!='not in clv')]\n",
    "vit_man=df[(df['player_status']=='Managed') & (df['in_out']=='not in clv')]\n",
    "man_overalp=df[(df['player_status']=='Managed') & (df['in_out']!='not in clv')]\n",
    "clv_ignored=df[(df['player_status']=='CLV picked') & (df['in_out']!='not in clv')]\n"
   ]
  },
  {
   "cell_type": "code",
   "execution_count": 39,
   "metadata": {},
   "outputs": [],
   "source": [
    "man_overalp.to_clipboard()"
   ]
  },
  {
   "cell_type": "code",
   "execution_count": 14,
   "metadata": {},
   "outputs": [],
   "source": [
    "set_a=df[(df['player_status']=='non hosted picked') & (df['in_out']=='not in clv')].player_id.count()\n",
    "set_b=df[(df['player_status']=='non hosted picked') & (df['in_out']!='not in clv')].player_id.count()\n",
    "set_c=df[(df['player_status']=='Managed') & (df['in_out']=='not in clv')].player_id.count()\n",
    "set_d=df[(df['player_status']=='Managed') & (df['in_out']!='not in clv')].player_id.count()\n",
    "set_e=df[(df['player_status']=='CLV picked') & (df['in_out']!='not in clv')].player_id.count()\n",
    "\n",
    "set_z=df[(df['player_status']!='Managed') & (df['in_out']!='not in clv')].player_id.count()"
   ]
  },
  {
   "cell_type": "code",
   "execution_count": 30,
   "metadata": {},
   "outputs": [
    {
     "data": {
      "image/png": "[encoded data removed]",
      "text/plain": [
       "<Figure size 432x288 with 1 Axes>"
      ]
     },
     "metadata": {},
     "output_type": "display_data"
    }
   ],
   "source": [
    "venn3(subsets = (set_a, set_e, set_b, set_d,0,set_c,0), set_labels = ('VIP Prospect', 'CLV NON VIP', 'Managed'), alpha = 0.5);\n",
    "plt.title('CLV  suggested vs Hand picked VIP,number of players');"
   ]
  },
  {
   "cell_type": "code",
   "execution_count": 51,
   "metadata": {},
   "outputs": [
    {
     "data": {
      "image/png": "[encoded data removed]",
      "text/plain": [
       "<Figure size 432x288 with 1 Axes>"
      ]
     },
     "metadata": {},
     "output_type": "display_data"
    }
   ],
   "source": [
    "venn3(subsets = (350,900-350, 350,150,0,0,0), set_labels = (''),set_colors=('purple','blue', 'skyblue'),alpha = 0.6,);"
   ]
  },
  {
   "cell_type": "code",
   "execution_count": 25,
   "metadata": {},
   "outputs": [
    {
     "data": {
      "text/plain": [
       "<matplotlib_venn._common.VennDiagram at 0x207748a1a88>"
      ]
     },
     "execution_count": 25,
     "metadata": {},
     "output_type": "execute_result"
    },
    {
     "data": {
      "image/png": "[encoded data removed]",
      "text/plain": [
       "<Figure size 432x288 with 1 Axes>"
      ]
     },
     "metadata": {},
     "output_type": "display_data"
    }
   ],
   "source": [
    "venn2(subsets=(350,,467),set_labels=('Managed','CLV selected') )"
   ]
  },
  {
   "cell_type": "code",
   "execution_count": 40,
   "metadata": {},
   "outputs": [
    {
     "data": {
      "text/plain": [
       "Country_Desc\n",
       "Austria         35\n",
       "Brazil           9\n",
       "Canada         397\n",
       "Chile            2\n",
       "Hungary          7\n",
       "Iceland          1\n",
       "Ireland          6\n",
       "Italy            5\n",
       "Kazakhstan       2\n",
       "Luxembourg       3\n",
       "Malta           10\n",
       "Mexico           5\n",
       "Moldova          1\n",
       "Morocco          1\n",
       "Netherlands      6\n",
       "New Zealand      1\n",
       "Paraguay         2\n",
       "Slovenia        21\n",
       "Spain           35\n",
       "Uzbekistan       4\n",
       "Name: player_id, dtype: int64"
      ]
     },
     "execution_count": 40,
     "metadata": {},
     "output_type": "execute_result"
    }
   ],
   "source": [
    "df[(df['player_status']=='CLV picked') & (df['in_out']!='not in clv')].groupby('Country_Desc')['player_id'].count()"
   ]
  },
  {
   "cell_type": "code",
   "execution_count": 84,
   "metadata": {},
   "outputs": [],
   "source": [
    "query2='''\n",
    "SEL\n",
    "\n",
    "fps.Player_Id,\n",
    "dp.Login_Name_Txt,\n",
    "dplh.Host_Start_Date,\n",
    "CASE WHEN dplh.Host_Agent_First_Name='VIP NOT Hosted' THEN 'non hosted picked' ELSE 'managed' END AS status,\n",
    "scores.model_score est_ngr_pre_host,\n",
    "scores.model_score /365 AS CLV_daily_ngr_pre,\n",
    "scores2.model_score /365 AS CLV_daily_ngr_post,\n",
    "COUNT(DISTINCT fps.Summary_Date) days_played,\n",
    "(DATE-1-dplh.Host_Start_Date) days_since_host,\n",
    "(dplh.Host_Start_Date-DATE '2021-01-01') AS days_pre_host,\n",
    "SUM(fps.ngr_amt_eur) ngr_eur,\n",
    "\n",
    "SUM(CASE WHEN fps.Summary_Date>= dplh.Host_Start_Date THEN fps.NGR_Amt_EUR ELSE 0 END ) / (days_since_host)  daily_hosted_ngr,\n",
    "SUM(CASE WHEN fps.Summary_Date< dplh.Host_Start_Date THEN fps.NGR_Amt_EUR ELSE 0 END ) /NULLIF( days_pre_host,0)  daily_non_hosted_ngr\n",
    "\n",
    "\n",
    "\n",
    "\n",
    "FROM FD_Player_Summary fps \n",
    "JOIN Dim_Skin ds ON fps.Wh_Skin_Id=fps.Wh_Skin_Id\n",
    "JOIN Dim_Player dp ON fps.Player_Id=dp.Player_Id\n",
    "JOIN (SELECT * FROM Dim_Player_host_log  WHERE host_agent_team IN ('PartyCasino VIP',\n",
    "'Partycasino Vip team') )  dplh ON fps.Player_Id = dplh.Player_Id \n",
    "JOIN dwprodviewsppmbi.Model_Daily_scores scores ON fps.Player_Id=scores.player_id AND dplh.Host_Start_Date-1 =scores.snapshot_date\n",
    "JOIN dwprodviewsppmbi.Model_Daily_scores scores2 ON fps.Player_Id=scores2.player_id AND DATE-1 =scores2.snapshot_date\n",
    "\n",
    "WHERE fps.Summary_Date>= '2021-01-01' \n",
    "AND ds.Wh_Product_Cd=2\n",
    "AND scores.model_description_id IS IN (1,5,9)\n",
    "AND scores2.model_description_id IS IN (1,5,9)\n",
    "AND dplh.Host_End_Date>=DATE-1\n",
    "AND dplh.Host_Start_Date>='2021-01-01'\n",
    "\n",
    "GROUP BY 1,2,3,4,5,6,7  '''"
   ]
  },
  {
   "cell_type": "code",
   "execution_count": 85,
   "metadata": {},
   "outputs": [],
   "source": [
    "#Run query\n",
    "with udaExec.connect(\"${dataSourceName}\") as session:\n",
    "    \n",
    "    df2=pd.read_sql_query(query2,session)\n",
    "\n",
    "session.close()"
   ]
  },
  {
   "cell_type": "code",
   "execution_count": 86,
   "metadata": {},
   "outputs": [
    {
     "data": {
      "text/html": [
       "<div>\n",
       "<style scoped>\n",
       "    .dataframe tbody tr th:only-of-type {\n",
       "        vertical-align: middle;\n",
       "    }\n",
       "\n",
       "    .dataframe tbody tr th {\n",
       "        vertical-align: top;\n",
       "    }\n",
       "\n",
       "    .dataframe thead th {\n",
       "        text-align: right;\n",
       "    }\n",
       "</style>\n",
       "<table border=\"1\" class=\"dataframe\">\n",
       "  <thead>\n",
       "    <tr style=\"text-align: right;\">\n",
       "      <th></th>\n",
       "      <th>Player_Id</th>\n",
       "      <th>Login_Name_Txt</th>\n",
       "      <th>Host_Start_Date</th>\n",
       "      <th>status</th>\n",
       "      <th>est_ngr_pre_host</th>\n",
       "      <th>CLV_daily_ngr_pre</th>\n",
       "      <th>CLV_daily_ngr_post</th>\n",
       "      <th>days_played</th>\n",
       "      <th>days_since_host</th>\n",
       "      <th>days_pre_host</th>\n",
       "      <th>ngr_eur</th>\n",
       "      <th>daily_hosted_ngr</th>\n",
       "      <th>daily_non_hosted_ngr</th>\n",
       "    </tr>\n",
       "  </thead>\n",
       "  <tbody>\n",
       "    <tr>\n",
       "      <th>0</th>\n",
       "      <td>516015321.0</td>\n",
       "      <td>pp_Paparazzi79</td>\n",
       "      <td>2021-10-07</td>\n",
       "      <td>non hosted picked</td>\n",
       "      <td>12688.476804</td>\n",
       "      <td>34.762950</td>\n",
       "      <td>17.409918</td>\n",
       "      <td>76.0</td>\n",
       "      <td>55.0</td>\n",
       "      <td>279.0</td>\n",
       "      <td>2.269427e+06</td>\n",
       "      <td>3161.72477</td>\n",
       "      <td>7510.86626</td>\n",
       "    </tr>\n",
       "    <tr>\n",
       "      <th>1</th>\n",
       "      <td>518807999.0</td>\n",
       "      <td>pp_Molsonmax10</td>\n",
       "      <td>2021-08-06</td>\n",
       "      <td>managed</td>\n",
       "      <td>11211.059955</td>\n",
       "      <td>30.715233</td>\n",
       "      <td>3.791432</td>\n",
       "      <td>179.0</td>\n",
       "      <td>117.0</td>\n",
       "      <td>217.0</td>\n",
       "      <td>1.171596e+07</td>\n",
       "      <td>45295.76830</td>\n",
       "      <td>29568.44816</td>\n",
       "    </tr>\n",
       "    <tr>\n",
       "      <th>2</th>\n",
       "      <td>413737293.0</td>\n",
       "      <td>pp_sofiane2589</td>\n",
       "      <td>2021-10-07</td>\n",
       "      <td>non hosted picked</td>\n",
       "      <td>5316.173791</td>\n",
       "      <td>14.564860</td>\n",
       "      <td>16.852320</td>\n",
       "      <td>74.0</td>\n",
       "      <td>55.0</td>\n",
       "      <td>279.0</td>\n",
       "      <td>5.240948e+06</td>\n",
       "      <td>9418.99752</td>\n",
       "      <td>16927.96692</td>\n",
       "    </tr>\n",
       "    <tr>\n",
       "      <th>3</th>\n",
       "      <td>534399822.0</td>\n",
       "      <td>pp_ktmexc450r04</td>\n",
       "      <td>2021-11-08</td>\n",
       "      <td>non hosted picked</td>\n",
       "      <td>2318.779122</td>\n",
       "      <td>6.352820</td>\n",
       "      <td>9.134238</td>\n",
       "      <td>83.0</td>\n",
       "      <td>23.0</td>\n",
       "      <td>311.0</td>\n",
       "      <td>3.758285e+06</td>\n",
       "      <td>27820.22703</td>\n",
       "      <td>10027.07225</td>\n",
       "    </tr>\n",
       "    <tr>\n",
       "      <th>4</th>\n",
       "      <td>550141644.0</td>\n",
       "      <td>pp_Majorgambit</td>\n",
       "      <td>2021-10-06</td>\n",
       "      <td>managed</td>\n",
       "      <td>18889.786865</td>\n",
       "      <td>51.752841</td>\n",
       "      <td>47.631104</td>\n",
       "      <td>264.0</td>\n",
       "      <td>56.0</td>\n",
       "      <td>278.0</td>\n",
       "      <td>1.214600e+07</td>\n",
       "      <td>35754.94164</td>\n",
       "      <td>36488.21768</td>\n",
       "    </tr>\n",
       "  </tbody>\n",
       "</table>\n",
       "</div>"
      ],
      "text/plain": [
       "     Player_Id   Login_Name_Txt Host_Start_Date             status  \\\n",
       "0  516015321.0   pp_Paparazzi79      2021-10-07  non hosted picked   \n",
       "1  518807999.0   pp_Molsonmax10      2021-08-06            managed   \n",
       "2  413737293.0   pp_sofiane2589      2021-10-07  non hosted picked   \n",
       "3  534399822.0  pp_ktmexc450r04      2021-11-08  non hosted picked   \n",
       "4  550141644.0   pp_Majorgambit      2021-10-06            managed   \n",
       "\n",
       "   est_ngr_pre_host  CLV_daily_ngr_pre  CLV_daily_ngr_post  days_played  \\\n",
       "0      12688.476804          34.762950           17.409918         76.0   \n",
       "1      11211.059955          30.715233            3.791432        179.0   \n",
       "2       5316.173791          14.564860           16.852320         74.0   \n",
       "3       2318.779122           6.352820            9.134238         83.0   \n",
       "4      18889.786865          51.752841           47.631104        264.0   \n",
       "\n",
       "   days_since_host  days_pre_host       ngr_eur  daily_hosted_ngr  \\\n",
       "0             55.0          279.0  2.269427e+06        3161.72477   \n",
       "1            117.0          217.0  1.171596e+07       45295.76830   \n",
       "2             55.0          279.0  5.240948e+06        9418.99752   \n",
       "3             23.0          311.0  3.758285e+06       27820.22703   \n",
       "4             56.0          278.0  1.214600e+07       35754.94164   \n",
       "\n",
       "   daily_non_hosted_ngr  \n",
       "0            7510.86626  \n",
       "1           29568.44816  \n",
       "2           16927.96692  \n",
       "3           10027.07225  \n",
       "4           36488.21768  "
      ]
     },
     "execution_count": 86,
     "metadata": {},
     "output_type": "execute_result"
    }
   ],
   "source": [
    "df2.head()"
   ]
  },
  {
   "cell_type": "code",
   "execution_count": 47,
   "metadata": {},
   "outputs": [],
   "source": [
    "up_up=df2[(df2['daily_hosted_ngr']>df2['CLV_daily_ngr_pre'])  &  (df2['CLV_daily_ngr_post']>df2['CLV_daily_ngr_pre'])]\n",
    "up=df2[(df2['daily_hosted_ngr']>df2['CLV_daily_ngr_pre'])  &  (df2['CLV_daily_ngr_post']<df2['CLV_daily_ngr_pre'])]\n",
    "down_down=df2[(df2['daily_hosted_ngr']<df2['CLV_daily_ngr_pre'])  &  (df2['CLV_daily_ngr_post']<df2['CLV_daily_ngr_pre'])]\n",
    "down=df2[(df2['daily_hosted_ngr']<df2['CLV_daily_ngr_pre'])  &  (df2['CLV_daily_ngr_post']>df2['CLV_daily_ngr_pre'])]"
   ]
  },
  {
   "cell_type": "code",
   "execution_count": 68,
   "metadata": {},
   "outputs": [
    {
     "data": {
      "text/plain": [
       "112"
      ]
     },
     "execution_count": 68,
     "metadata": {},
     "output_type": "execute_result"
    }
   ],
   "source": [
    "up_up[up_up['status']=='managed'].Player_Id.count()\n",
    "up[up['status']=='managed'].Player_Id.count()\n",
    "down[down['status']=='managed'].Player_Id.count()\n",
    "down_down[down_down['status']=='managed'].Player_Id.count()\n",
    "\n",
    "\n",
    "#df2[df2['status']=='managed'].Player_Id.count()"
   ]
  },
  {
   "cell_type": "code",
   "execution_count": 77,
   "metadata": {},
   "outputs": [
    {
     "data": {
      "image/png": "[encoded data removed]",
      "text/plain": [
       "<Figure size 432x288 with 1 Axes>"
      ]
     },
     "metadata": {},
     "output_type": "display_data"
    }
   ],
   "source": [
    "venn2(subsets = (up_up[up_up['status']=='managed'].Player_Id.count(),\n",
    "down_down[down_down['status']=='managed'].Player_Id.count(),\n",
    "up[up['status']=='managed'].Player_Id.count()+down[down['status']=='managed'].Player_Id.count()\n",
    ",0,0),      \n",
    "set_labels = ('uplift', 'down','disagree') , alpha = 0.5);\n",
    "plt.title('Hosted daily NGR value simulation');"
   ]
  },
  {
   "cell_type": "code",
   "execution_count": 52,
   "metadata": {},
   "outputs": [
    {
     "data": {
      "text/html": [
       "<div>\n",
       "<style scoped>\n",
       "    .dataframe tbody tr th:only-of-type {\n",
       "        vertical-align: middle;\n",
       "    }\n",
       "\n",
       "    .dataframe tbody tr th {\n",
       "        vertical-align: top;\n",
       "    }\n",
       "\n",
       "    .dataframe thead th {\n",
       "        text-align: right;\n",
       "    }\n",
       "</style>\n",
       "<table border=\"1\" class=\"dataframe\">\n",
       "  <thead>\n",
       "    <tr style=\"text-align: right;\">\n",
       "      <th></th>\n",
       "      <th>Player_Id</th>\n",
       "      <th>Login_Name_Txt</th>\n",
       "      <th>Host_Start_Date</th>\n",
       "      <th>status</th>\n",
       "      <th>est_ngr_pre_host</th>\n",
       "      <th>CLV_daily_ngr_pre</th>\n",
       "      <th>CLV_daily_ngr_post</th>\n",
       "      <th>days_played</th>\n",
       "      <th>days_since_host</th>\n",
       "      <th>days_pre_host</th>\n",
       "      <th>ngr_eur</th>\n",
       "      <th>daily_hosted_ngr</th>\n",
       "      <th>daily_non_hosted_ngr</th>\n",
       "    </tr>\n",
       "  </thead>\n",
       "  <tbody>\n",
       "    <tr>\n",
       "      <th>2</th>\n",
       "      <td>413737293.0</td>\n",
       "      <td>pp_sofiane2589</td>\n",
       "      <td>2021-10-07</td>\n",
       "      <td>non hosted picked</td>\n",
       "      <td>5316.173791</td>\n",
       "      <td>14.564860</td>\n",
       "      <td>16.852320</td>\n",
       "      <td>74.0</td>\n",
       "      <td>55.0</td>\n",
       "      <td>279.0</td>\n",
       "      <td>5.240948e+06</td>\n",
       "      <td>9418.99752</td>\n",
       "      <td>16927.96692</td>\n",
       "    </tr>\n",
       "    <tr>\n",
       "      <th>3</th>\n",
       "      <td>534399822.0</td>\n",
       "      <td>pp_ktmexc450r04</td>\n",
       "      <td>2021-11-08</td>\n",
       "      <td>non hosted picked</td>\n",
       "      <td>2318.779122</td>\n",
       "      <td>6.352820</td>\n",
       "      <td>9.134238</td>\n",
       "      <td>83.0</td>\n",
       "      <td>23.0</td>\n",
       "      <td>311.0</td>\n",
       "      <td>3.758285e+06</td>\n",
       "      <td>27820.22703</td>\n",
       "      <td>10027.07225</td>\n",
       "    </tr>\n",
       "    <tr>\n",
       "      <th>5</th>\n",
       "      <td>575848730.0</td>\n",
       "      <td>pp_Luciana7677</td>\n",
       "      <td>2021-10-28</td>\n",
       "      <td>managed</td>\n",
       "      <td>300.233301</td>\n",
       "      <td>0.822557</td>\n",
       "      <td>0.847593</td>\n",
       "      <td>18.0</td>\n",
       "      <td>34.0</td>\n",
       "      <td>300.0</td>\n",
       "      <td>6.742120e+04</td>\n",
       "      <td>1857.90746</td>\n",
       "      <td>14.17449</td>\n",
       "    </tr>\n",
       "    <tr>\n",
       "      <th>7</th>\n",
       "      <td>556703473.0</td>\n",
       "      <td>pe_Emilio323</td>\n",
       "      <td>2021-03-09</td>\n",
       "      <td>managed</td>\n",
       "      <td>6786.878021</td>\n",
       "      <td>18.594186</td>\n",
       "      <td>22.619085</td>\n",
       "      <td>79.0</td>\n",
       "      <td>267.0</td>\n",
       "      <td>67.0</td>\n",
       "      <td>7.400365e+06</td>\n",
       "      <td>19724.71940</td>\n",
       "      <td>31848.72655</td>\n",
       "    </tr>\n",
       "    <tr>\n",
       "      <th>15</th>\n",
       "      <td>534735805.0</td>\n",
       "      <td>pp_BlairEllery68</td>\n",
       "      <td>2021-05-17</td>\n",
       "      <td>managed</td>\n",
       "      <td>35650.697202</td>\n",
       "      <td>97.673143</td>\n",
       "      <td>106.165982</td>\n",
       "      <td>146.0</td>\n",
       "      <td>198.0</td>\n",
       "      <td>136.0</td>\n",
       "      <td>4.088770e+07</td>\n",
       "      <td>107308.94415</td>\n",
       "      <td>144415.62182</td>\n",
       "    </tr>\n",
       "    <tr>\n",
       "      <th>...</th>\n",
       "      <td>...</td>\n",
       "      <td>...</td>\n",
       "      <td>...</td>\n",
       "      <td>...</td>\n",
       "      <td>...</td>\n",
       "      <td>...</td>\n",
       "      <td>...</td>\n",
       "      <td>...</td>\n",
       "      <td>...</td>\n",
       "      <td>...</td>\n",
       "      <td>...</td>\n",
       "      <td>...</td>\n",
       "      <td>...</td>\n",
       "    </tr>\n",
       "    <tr>\n",
       "      <th>2281</th>\n",
       "      <td>196688659.0</td>\n",
       "      <td>pp_stuartdrj</td>\n",
       "      <td>2021-11-08</td>\n",
       "      <td>non hosted picked</td>\n",
       "      <td>5461.961717</td>\n",
       "      <td>14.964279</td>\n",
       "      <td>26.095661</td>\n",
       "      <td>101.0</td>\n",
       "      <td>23.0</td>\n",
       "      <td>311.0</td>\n",
       "      <td>3.327925e+06</td>\n",
       "      <td>54151.01501</td>\n",
       "      <td>6695.98530</td>\n",
       "    </tr>\n",
       "    <tr>\n",
       "      <th>2282</th>\n",
       "      <td>193089807.0</td>\n",
       "      <td>pp_sernek16</td>\n",
       "      <td>2021-10-07</td>\n",
       "      <td>non hosted picked</td>\n",
       "      <td>5054.171744</td>\n",
       "      <td>13.847046</td>\n",
       "      <td>14.711044</td>\n",
       "      <td>26.0</td>\n",
       "      <td>55.0</td>\n",
       "      <td>279.0</td>\n",
       "      <td>2.312791e+06</td>\n",
       "      <td>12991.67786</td>\n",
       "      <td>5728.48940</td>\n",
       "    </tr>\n",
       "    <tr>\n",
       "      <th>2286</th>\n",
       "      <td>555658772.0</td>\n",
       "      <td>pp_Michelle028299</td>\n",
       "      <td>2021-02-01</td>\n",
       "      <td>managed</td>\n",
       "      <td>13496.700955</td>\n",
       "      <td>36.977263</td>\n",
       "      <td>53.676472</td>\n",
       "      <td>275.0</td>\n",
       "      <td>303.0</td>\n",
       "      <td>31.0</td>\n",
       "      <td>2.205420e+07</td>\n",
       "      <td>64186.25719</td>\n",
       "      <td>84056.97712</td>\n",
       "    </tr>\n",
       "    <tr>\n",
       "      <th>2288</th>\n",
       "      <td>482849977.0</td>\n",
       "      <td>pp_bauhaus13cl</td>\n",
       "      <td>2021-11-08</td>\n",
       "      <td>managed</td>\n",
       "      <td>7095.173897</td>\n",
       "      <td>19.438833</td>\n",
       "      <td>24.711385</td>\n",
       "      <td>51.0</td>\n",
       "      <td>23.0</td>\n",
       "      <td>311.0</td>\n",
       "      <td>1.206814e+07</td>\n",
       "      <td>76004.79679</td>\n",
       "      <td>33183.35932</td>\n",
       "    </tr>\n",
       "    <tr>\n",
       "      <th>2292</th>\n",
       "      <td>556026423.0</td>\n",
       "      <td>pp_luckybunny999</td>\n",
       "      <td>2021-11-08</td>\n",
       "      <td>managed</td>\n",
       "      <td>24162.930880</td>\n",
       "      <td>66.199811</td>\n",
       "      <td>116.514013</td>\n",
       "      <td>221.0</td>\n",
       "      <td>23.0</td>\n",
       "      <td>311.0</td>\n",
       "      <td>1.282187e+07</td>\n",
       "      <td>183558.14003</td>\n",
       "      <td>27652.83216</td>\n",
       "    </tr>\n",
       "  </tbody>\n",
       "</table>\n",
       "<p>695 rows × 13 columns</p>\n",
       "</div>"
      ],
      "text/plain": [
       "        Player_Id     Login_Name_Txt Host_Start_Date             status  \\\n",
       "2     413737293.0     pp_sofiane2589      2021-10-07  non hosted picked   \n",
       "3     534399822.0    pp_ktmexc450r04      2021-11-08  non hosted picked   \n",
       "5     575848730.0     pp_Luciana7677      2021-10-28            managed   \n",
       "7     556703473.0       pe_Emilio323      2021-03-09            managed   \n",
       "15    534735805.0   pp_BlairEllery68      2021-05-17            managed   \n",
       "...           ...                ...             ...                ...   \n",
       "2281  196688659.0       pp_stuartdrj      2021-11-08  non hosted picked   \n",
       "2282  193089807.0        pp_sernek16      2021-10-07  non hosted picked   \n",
       "2286  555658772.0  pp_Michelle028299      2021-02-01            managed   \n",
       "2288  482849977.0     pp_bauhaus13cl      2021-11-08            managed   \n",
       "2292  556026423.0   pp_luckybunny999      2021-11-08            managed   \n",
       "\n",
       "      est_ngr_pre_host  CLV_daily_ngr_pre  CLV_daily_ngr_post  days_played  \\\n",
       "2          5316.173791          14.564860           16.852320         74.0   \n",
       "3          2318.779122           6.352820            9.134238         83.0   \n",
       "5           300.233301           0.822557            0.847593         18.0   \n",
       "7          6786.878021          18.594186           22.619085         79.0   \n",
       "15        35650.697202          97.673143          106.165982        146.0   \n",
       "...                ...                ...                 ...          ...   \n",
       "2281       5461.961717          14.964279           26.095661        101.0   \n",
       "2282       5054.171744          13.847046           14.711044         26.0   \n",
       "2286      13496.700955          36.977263           53.676472        275.0   \n",
       "2288       7095.173897          19.438833           24.711385         51.0   \n",
       "2292      24162.930880          66.199811          116.514013        221.0   \n",
       "\n",
       "      days_since_host  days_pre_host       ngr_eur  daily_hosted_ngr  \\\n",
       "2                55.0          279.0  5.240948e+06        9418.99752   \n",
       "3                23.0          311.0  3.758285e+06       27820.22703   \n",
       "5                34.0          300.0  6.742120e+04        1857.90746   \n",
       "7               267.0           67.0  7.400365e+06       19724.71940   \n",
       "15              198.0          136.0  4.088770e+07      107308.94415   \n",
       "...               ...            ...           ...               ...   \n",
       "2281             23.0          311.0  3.327925e+06       54151.01501   \n",
       "2282             55.0          279.0  2.312791e+06       12991.67786   \n",
       "2286            303.0           31.0  2.205420e+07       64186.25719   \n",
       "2288             23.0          311.0  1.206814e+07       76004.79679   \n",
       "2292             23.0          311.0  1.282187e+07      183558.14003   \n",
       "\n",
       "      daily_non_hosted_ngr  \n",
       "2              16927.96692  \n",
       "3              10027.07225  \n",
       "5                 14.17449  \n",
       "7              31848.72655  \n",
       "15            144415.62182  \n",
       "...                    ...  \n",
       "2281            6695.98530  \n",
       "2282            5728.48940  \n",
       "2286           84056.97712  \n",
       "2288           33183.35932  \n",
       "2292           27652.83216  \n",
       "\n",
       "[695 rows x 13 columns]"
      ]
     },
     "execution_count": 52,
     "metadata": {},
     "output_type": "execute_result"
    }
   ],
   "source": [
    "up_up"
   ]
  },
  {
   "cell_type": "code",
   "execution_count": 80,
   "metadata": {},
   "outputs": [
    {
     "data": {
      "text/html": [
       "<div>\n",
       "<style scoped>\n",
       "    .dataframe tbody tr th:only-of-type {\n",
       "        vertical-align: middle;\n",
       "    }\n",
       "\n",
       "    .dataframe tbody tr th {\n",
       "        vertical-align: top;\n",
       "    }\n",
       "\n",
       "    .dataframe thead th {\n",
       "        text-align: right;\n",
       "    }\n",
       "</style>\n",
       "<table border=\"1\" class=\"dataframe\">\n",
       "  <thead>\n",
       "    <tr style=\"text-align: right;\">\n",
       "      <th></th>\n",
       "      <th>CLV_daily_ngr_pre</th>\n",
       "      <th>CLV_daily_ngr_post</th>\n",
       "      <th>daily_hosted_ngr</th>\n",
       "    </tr>\n",
       "    <tr>\n",
       "      <th>status</th>\n",
       "      <th></th>\n",
       "      <th></th>\n",
       "      <th></th>\n",
       "    </tr>\n",
       "  </thead>\n",
       "  <tbody>\n",
       "    <tr>\n",
       "      <th>managed</th>\n",
       "      <td>8513.987442</td>\n",
       "      <td>13888.662623</td>\n",
       "      <td>2.206142e+07</td>\n",
       "    </tr>\n",
       "    <tr>\n",
       "      <th>non hosted picked</th>\n",
       "      <td>6280.268290</td>\n",
       "      <td>8333.999974</td>\n",
       "      <td>9.149607e+06</td>\n",
       "    </tr>\n",
       "  </tbody>\n",
       "</table>\n",
       "</div>"
      ],
      "text/plain": [
       "                   CLV_daily_ngr_pre  CLV_daily_ngr_post  daily_hosted_ngr\n",
       "status                                                                    \n",
       "managed                  8513.987442        13888.662623      2.206142e+07\n",
       "non hosted picked        6280.268290         8333.999974      9.149607e+06"
      ]
     },
     "execution_count": 80,
     "metadata": {},
     "output_type": "execute_result"
    }
   ],
   "source": [
    "up_up.groupby('status').sum()[['CLV_daily_ngr_pre','CLV_daily_ngr_post','daily_hosted_ngr',]]"
   ]
  },
  {
   "cell_type": "code",
   "execution_count": null,
   "metadata": {},
   "outputs": [],
   "source": []
  },
  {
   "cell_type": "code",
   "execution_count": 83,
   "metadata": {},
   "outputs": [
    {
     "data": {
      "text/plain": [
       "<matplotlib.legend.Legend at 0x25b161f9f48>"
      ]
     },
     "execution_count": 83,
     "metadata": {},
     "output_type": "execute_result"
    },
    {
     "data": {
      "image/png": "[encoded data removed]",
      "text/plain": [
       "<Figure size 432x288 with 1 Axes>"
      ]
     },
     "metadata": {
      "needs_background": "light"
     },
     "output_type": "display_data"
    },
    {
     "data": {
      "image/png": "[encoded data removed]",
      "text/plain": [
       "<Figure size 432x288 with 1 Axes>"
      ]
     },
     "metadata": {
      "needs_background": "light"
     },
     "output_type": "display_data"
    },
    {
     "data": {
      "image/png": "[encoded data removed]",
      "text/plain": [
       "<Figure size 432x288 with 1 Axes>"
      ]
     },
     "metadata": {
      "needs_background": "light"
     },
     "output_type": "display_data"
    },
    {
     "data": {
      "image/png": "[encoded data removed]",
      "text/plain": [
       "<Figure size 432x288 with 1 Axes>"
      ]
     },
     "metadata": {
      "needs_background": "light"
     },
     "output_type": "display_data"
    }
   ],
   "source": [
    "fig1=up_up[up_up['status']=='managed'].groupby('status').sum()[['CLV_daily_ngr_pre','CLV_daily_ngr_post',]].plot.bar(width=0.1)\n",
    "fig1=plt.xlabel(' ')\n",
    "fig1=plt.title('Managed definite increase NGR vs CLV pre vs CLV post')\n",
    "\n",
    "\n",
    "plt.tick_params(\n",
    "    axis='x',          # changes apply to the x-axis\n",
    "    which='both',      # both major and minor ticks are affected\n",
    "    bottom=False,      # ticks along the bottom edge are off\n",
    "    top=False,         # ticks along the top edge are off\n",
    "    labelbottom=False) # labels along the bottom edge are off\n",
    "\n",
    "fig2=up[up['status']=='managed'].groupby('status').sum()[['CLV_daily_ngr_pre','CLV_daily_ngr_post','daily_hosted_ngr',]].plot.bar(width=0.1)\n",
    "fig2=plt.title('Managed uncertain increase NGR vs CLV pre vs CLV post')\n",
    "\n",
    "plt.tick_params(\n",
    "    axis='x',          # changes apply to the x-axis\n",
    "    which='both',      # both major and minor ticks are affected\n",
    "    bottom=False,      # ticks along the bottom edge are off\n",
    "    top=False,         # ticks along the top edge are off\n",
    "    labelbottom=False) # labels along the bottom edge are off\n",
    "\n",
    "\n",
    "fig3=down_down[down_down['status']=='managed'].groupby('status').sum()[['CLV_daily_ngr_pre','CLV_daily_ngr_post','daily_hosted_ngr',]].plot.bar(width=0.1)\n",
    "fig3=plt.title('Managed definite decrease NGR vs CLV pre vs CLV post')\n",
    "\n",
    "plt.tick_params(\n",
    "    axis='x',          # changes apply to the x-axis\n",
    "    which='both',      # both major and minor ticks are affected\n",
    "    bottom=False,      # ticks along the bottom edge are off\n",
    "    top=False,         # ticks along the top edge are off\n",
    "    labelbottom=False) # labels along the bottom edge are off\n",
    "\n",
    "fig4=down[down['status']=='managed'].groupby('status').sum()[['CLV_daily_ngr_pre','CLV_daily_ngr_post','daily_hosted_ngr',]].plot.bar(width=0.1)\n",
    "fig4=plt.title('Managed uncertain decrease NGR vs CLV pre vs CLV post')\n",
    "\n",
    "plt.tick_params(\n",
    "    axis='x',          # changes apply to the x-axis\n",
    "    which='both',      # both major and minor ticks are affected\n",
    "    bottom=False,      # ticks along the bottom edge are off\n",
    "    top=False,         # ticks along the top edge are off\n",
    "    labelbottom=False) # labels along the bottom edge are off\n",
    "\n",
    "\n",
    "\n",
    "plt.legend()\n"
   ]
  },
  {
   "cell_type": "code",
   "execution_count": 127,
   "metadata": {},
   "outputs": [
    {
     "data": {
      "text/plain": [
       "<matplotlib.legend.Legend at 0x26d0ecf7f88>"
      ]
     },
     "execution_count": 127,
     "metadata": {},
     "output_type": "execute_result"
    },
    {
     "data": {
      "image/png": "[encoded data removed]",
      "text/plain": [
       "<Figure size 432x288 with 1 Axes>"
      ]
     },
     "metadata": {
      "needs_background": "light"
     },
     "output_type": "display_data"
    },
    {
     "data": {
      "image/png": "[encoded data removed]",
      "text/plain": [
       "<Figure size 432x288 with 1 Axes>"
      ]
     },
     "metadata": {
      "needs_background": "light"
     },
     "output_type": "display_data"
    }
   ],
   "source": [
    "fig1=group1[(group1['player_status']=='Managed') & (group1['in_out']=='not in clv')][['av_NGR_per_player','av_CLV_per_player']].plot.bar(width=0.1)\n",
    "fig1=plt.xlabel(' ')\n",
    "fig1=plt.title('Vip Managed NOT IN CLV suggestion')\n",
    "\n",
    "\n",
    "plt.tick_params(\n",
    "    axis='x',          # changes apply to the x-axis\n",
    "    which='both',      # both major and minor ticks are affected\n",
    "    bottom=False,      # ticks along the bottom edge are off\n",
    "    top=False,         # ticks along the top edge are off\n",
    "    labelbottom=False) # labels along the bottom edge are off\n",
    "\n",
    "fig2=group1[(group1['player_status']=='Managed') & (group1['in_out']!='not in clv')][['av_NGR_per_player','av_CLV_per_player']].plot.bar(width=0.1,secondary_y=False)\n",
    "fig2=plt.xlabel(' ')\n",
    "fig2=plt.title('Vip Managed IN CLV suggestion')\n",
    "\n",
    "plt.tick_params(\n",
    "    axis='x',          # changes apply to the x-axis\n",
    "    which='both',      # both major and minor ticks are affected\n",
    "    bottom=False,      # ticks along the bottom edge are off\n",
    "    top=False,         # ticks along the top edge are off\n",
    "    labelbottom=False) # labels along the bottom edge are off\n",
    "plt.legend()\n"
   ]
  },
  {
   "cell_type": "code",
   "execution_count": 128,
   "metadata": {},
   "outputs": [
    {
     "data": {
      "image/png": "[encoded data removed]",
      "text/plain": [
       "<Figure size 432x288 with 1 Axes>"
      ]
     },
     "metadata": {
      "needs_background": "light"
     },
     "output_type": "display_data"
    }
   ],
   "source": [
    "fig1=group1[(group1['player_status']=='CLV picked') & (group1['in_out']!='not in clv')][['av_NGR_per_player','av_CLV_per_player']].plot.bar(width=0.1)\n",
    "fig1=plt.xlabel(' ')\n",
    "fig1=plt.title('non VIP players IN CLV suggestion')\n",
    "\n",
    "\n",
    "plt.tick_params(\n",
    "    axis='x',          # changes apply to the x-axis\n",
    "    which='both',      # both major and minor ticks are affected\n",
    "    bottom=False,      # ticks along the bottom edge are off\n",
    "    top=False,         # ticks along the top edge are off\n",
    "    labelbottom=False) # labels along the bottom edge are off\n",
    "\n",
    "\n"
   ]
  },
  {
   "cell_type": "code",
   "execution_count": null,
   "metadata": {},
   "outputs": [],
   "source": []
  }
 ],
 "metadata": {
  "kernelspec": {
   "display_name": "Python 3 (ipykernel)",
   "language": "python",
   "name": "python3"
  },
  "language_info": {
   "codemirror_mode": {
    "name": "ipython",
    "version": 3
   },
   "file_extension": ".py",
   "mimetype": "text/x-python",
   "name": "python",
   "nbconvert_exporter": "python",
   "pygments_lexer": "ipython3",
   "version": "3.7.4"
  }
 },
 "nbformat": 4,
 "nbformat_minor": 2
}
