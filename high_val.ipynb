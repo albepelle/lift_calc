{
 "cells": [
  {
   "cell_type": "code",
   "execution_count": 1,
   "id": "06da1f0c",
   "metadata": {},
   "outputs": [],
   "source": [
    "import pandas as pd\n",
    "import numpy as np\n",
    "import statsmodels.stats as st\n",
    "import seaborn as ns\n",
    "import matplotlib.pyplot as plt\n",
    "import teradata \n",
    "udaExec = teradata.UdaExec ()\n",
    "\n",
    "entain=r'C:/Users/apelle/.matplotlib/entain.mplstyle'\n",
    "plt.style.use(entain)\n"
   ]
  },
  {
   "cell_type": "code",
   "execution_count": 2,
   "id": "25a7bcaf",
   "metadata": {},
   "outputs": [],
   "source": [
    "#casino club are about 165 players and can't be unhosted,\n",
    "#to identify casino club players search for condition: host_agent_team='VIP CasinoClub'"
   ]
  },
  {
   "cell_type": "code",
   "execution_count": 3,
   "id": "10318fc0",
   "metadata": {},
   "outputs": [],
   "source": [
    "df=pd.read_csv('List2.csv')"
   ]
  },
  {
   "cell_type": "code",
   "execution_count": 4,
   "id": "79d0b807",
   "metadata": {},
   "outputs": [
    {
     "data": {
      "text/html": [
       "<div>\n",
       "<style scoped>\n",
       "    .dataframe tbody tr th:only-of-type {\n",
       "        vertical-align: middle;\n",
       "    }\n",
       "\n",
       "    .dataframe tbody tr th {\n",
       "        vertical-align: top;\n",
       "    }\n",
       "\n",
       "    .dataframe thead th {\n",
       "        text-align: right;\n",
       "    }\n",
       "</style>\n",
       "<table border=\"1\" class=\"dataframe\">\n",
       "  <thead>\n",
       "    <tr style=\"text-align: right;\">\n",
       "      <th></th>\n",
       "      <th>Player_Id</th>\n",
       "      <th>bet_amt</th>\n",
       "      <th>cpd</th>\n",
       "      <th>ggr</th>\n",
       "    </tr>\n",
       "  </thead>\n",
       "  <tbody>\n",
       "    <tr>\n",
       "      <th>0</th>\n",
       "      <td>576,360,735</td>\n",
       "      <td>10500</td>\n",
       "      <td>4</td>\n",
       "      <td>1599</td>\n",
       "    </tr>\n",
       "    <tr>\n",
       "      <th>1</th>\n",
       "      <td>204,442,185</td>\n",
       "      <td>16249</td>\n",
       "      <td>15</td>\n",
       "      <td>1532</td>\n",
       "    </tr>\n",
       "    <tr>\n",
       "      <th>2</th>\n",
       "      <td>566,173,069</td>\n",
       "      <td>4377</td>\n",
       "      <td>10</td>\n",
       "      <td>960</td>\n",
       "    </tr>\n",
       "    <tr>\n",
       "      <th>3</th>\n",
       "      <td>193,821,339</td>\n",
       "      <td>28409</td>\n",
       "      <td>15</td>\n",
       "      <td>2190</td>\n",
       "    </tr>\n",
       "    <tr>\n",
       "      <th>4</th>\n",
       "      <td>517,800,410</td>\n",
       "      <td>186</td>\n",
       "      <td>2</td>\n",
       "      <td>27</td>\n",
       "    </tr>\n",
       "  </tbody>\n",
       "</table>\n",
       "</div>"
      ],
      "text/plain": [
       "     Player_Id  bet_amt  cpd   ggr\n",
       "0  576,360,735    10500    4  1599\n",
       "1  204,442,185    16249   15  1532\n",
       "2  566,173,069     4377   10   960\n",
       "3  193,821,339    28409   15  2190\n",
       "4  517,800,410      186    2    27"
      ]
     },
     "execution_count": 4,
     "metadata": {},
     "output_type": "execute_result"
    }
   ],
   "source": [
    "df.head()"
   ]
  },
  {
   "cell_type": "code",
   "execution_count": 5,
   "id": "c7ab4797",
   "metadata": {},
   "outputs": [],
   "source": [
    "df.fillna(0,inplace=True)"
   ]
  },
  {
   "cell_type": "code",
   "execution_count": 6,
   "id": "692bde2b",
   "metadata": {},
   "outputs": [
    {
     "data": {
      "text/plain": [
       "3587"
      ]
     },
     "execution_count": 6,
     "metadata": {},
     "output_type": "execute_result"
    }
   ],
   "source": [
    "len(df)"
   ]
  },
  {
   "cell_type": "markdown",
   "id": "7490a752",
   "metadata": {},
   "source": [
    "create theo NGR"
   ]
  },
  {
   "cell_type": "code",
   "execution_count": 7,
   "id": "c9004dd6",
   "metadata": {},
   "outputs": [],
   "source": [
    "df['t_ggr']=(df['bet_amt']*0.32)"
   ]
  },
  {
   "cell_type": "code",
   "execution_count": 8,
   "id": "88c02df5",
   "metadata": {},
   "outputs": [
    {
     "data": {
      "text/html": [
       "<div>\n",
       "<style scoped>\n",
       "    .dataframe tbody tr th:only-of-type {\n",
       "        vertical-align: middle;\n",
       "    }\n",
       "\n",
       "    .dataframe tbody tr th {\n",
       "        vertical-align: top;\n",
       "    }\n",
       "\n",
       "    .dataframe thead th {\n",
       "        text-align: right;\n",
       "    }\n",
       "</style>\n",
       "<table border=\"1\" class=\"dataframe\">\n",
       "  <thead>\n",
       "    <tr style=\"text-align: right;\">\n",
       "      <th></th>\n",
       "      <th>bet_amt</th>\n",
       "      <th>cpd</th>\n",
       "      <th>ggr</th>\n",
       "      <th>t_ggr</th>\n",
       "    </tr>\n",
       "  </thead>\n",
       "  <tbody>\n",
       "    <tr>\n",
       "      <th>count</th>\n",
       "      <td>3587.000000</td>\n",
       "      <td>3587.000000</td>\n",
       "      <td>3587.000000</td>\n",
       "      <td>3587.000000</td>\n",
       "    </tr>\n",
       "    <tr>\n",
       "      <th>mean</th>\n",
       "      <td>23794.059381</td>\n",
       "      <td>10.785615</td>\n",
       "      <td>932.626986</td>\n",
       "      <td>7614.099002</td>\n",
       "    </tr>\n",
       "    <tr>\n",
       "      <th>std</th>\n",
       "      <td>54633.315244</td>\n",
       "      <td>8.449386</td>\n",
       "      <td>3915.662067</td>\n",
       "      <td>17482.660878</td>\n",
       "    </tr>\n",
       "    <tr>\n",
       "      <th>min</th>\n",
       "      <td>0.000000</td>\n",
       "      <td>0.000000</td>\n",
       "      <td>-106757.000000</td>\n",
       "      <td>0.000000</td>\n",
       "    </tr>\n",
       "    <tr>\n",
       "      <th>25%</th>\n",
       "      <td>685.500000</td>\n",
       "      <td>3.000000</td>\n",
       "      <td>41.000000</td>\n",
       "      <td>219.360000</td>\n",
       "    </tr>\n",
       "    <tr>\n",
       "      <th>50%</th>\n",
       "      <td>7424.000000</td>\n",
       "      <td>9.000000</td>\n",
       "      <td>392.000000</td>\n",
       "      <td>2375.680000</td>\n",
       "    </tr>\n",
       "    <tr>\n",
       "      <th>75%</th>\n",
       "      <td>25127.000000</td>\n",
       "      <td>17.000000</td>\n",
       "      <td>1525.000000</td>\n",
       "      <td>8040.640000</td>\n",
       "    </tr>\n",
       "    <tr>\n",
       "      <th>max</th>\n",
       "      <td>971725.000000</td>\n",
       "      <td>51.000000</td>\n",
       "      <td>35433.000000</td>\n",
       "      <td>310952.000000</td>\n",
       "    </tr>\n",
       "  </tbody>\n",
       "</table>\n",
       "</div>"
      ],
      "text/plain": [
       "             bet_amt          cpd            ggr          t_ggr\n",
       "count    3587.000000  3587.000000    3587.000000    3587.000000\n",
       "mean    23794.059381    10.785615     932.626986    7614.099002\n",
       "std     54633.315244     8.449386    3915.662067   17482.660878\n",
       "min         0.000000     0.000000 -106757.000000       0.000000\n",
       "25%       685.500000     3.000000      41.000000     219.360000\n",
       "50%      7424.000000     9.000000     392.000000    2375.680000\n",
       "75%     25127.000000    17.000000    1525.000000    8040.640000\n",
       "max    971725.000000    51.000000   35433.000000  310952.000000"
      ]
     },
     "execution_count": 8,
     "metadata": {},
     "output_type": "execute_result"
    }
   ],
   "source": [
    "df.describe()"
   ]
  },
  {
   "cell_type": "markdown",
   "id": "a6e9ec70",
   "metadata": {},
   "source": [
    "Check variance for both Bet amt and Theo NGR"
   ]
  },
  {
   "cell_type": "code",
   "execution_count": 9,
   "id": "1aba3855",
   "metadata": {},
   "outputs": [
    {
     "data": {
      "text/plain": [
       "Player_Id     945,317\n",
       "bet_amt        971725\n",
       "cpd                51\n",
       "ggr             35433\n",
       "t_ggr        310952.0\n",
       "dtype: object"
      ]
     },
     "execution_count": 9,
     "metadata": {},
     "output_type": "execute_result"
    }
   ],
   "source": [
    "df.max()"
   ]
  },
  {
   "cell_type": "code",
   "execution_count": 10,
   "id": "48a7a618",
   "metadata": {},
   "outputs": [
    {
     "name": "stdout",
     "output_type": "stream",
     "text": [
      "Variance coeffiecents for bet amt:230%\n"
     ]
    },
    {
     "ename": "KeyboardInterrupt",
     "evalue": "",
     "output_type": "error",
     "traceback": [
      "\u001b[1;31m---------------------------------------------------------------------------\u001b[0m",
      "\u001b[1;31mKeyboardInterrupt\u001b[0m                         Traceback (most recent call last)",
      "\u001b[1;32m~\\AppData\\Local\\Temp/ipykernel_135784/1137632071.py\u001b[0m in \u001b[0;36m<module>\u001b[1;34m\u001b[0m\n\u001b[0;32m      1\u001b[0m \u001b[0mY1\u001b[0m\u001b[1;33m=\u001b[0m\u001b[0mdf\u001b[0m\u001b[1;33m[\u001b[0m\u001b[1;34m'bet_amt'\u001b[0m\u001b[1;33m]\u001b[0m\u001b[1;33m.\u001b[0m\u001b[0mstd\u001b[0m\u001b[1;33m(\u001b[0m\u001b[1;33m)\u001b[0m\u001b[1;33m/\u001b[0m\u001b[0mdf\u001b[0m\u001b[1;33m[\u001b[0m\u001b[1;34m'bet_amt'\u001b[0m\u001b[1;33m]\u001b[0m\u001b[1;33m.\u001b[0m\u001b[0mmean\u001b[0m\u001b[1;33m(\u001b[0m\u001b[1;33m)\u001b[0m\u001b[1;33m\u001b[0m\u001b[1;33m\u001b[0m\u001b[0m\n\u001b[0;32m      2\u001b[0m \u001b[0mprint\u001b[0m\u001b[1;33m(\u001b[0m\u001b[1;34m'Variance coeffiecents for bet amt:'\u001b[0m \u001b[1;33m+\u001b[0m\u001b[0mstr\u001b[0m\u001b[1;33m(\u001b[0m \u001b[0mround\u001b[0m\u001b[1;33m(\u001b[0m\u001b[0mY1\u001b[0m\u001b[1;33m*\u001b[0m\u001b[1;36m100\u001b[0m\u001b[1;33m)\u001b[0m \u001b[1;33m)\u001b[0m\u001b[1;33m+\u001b[0m\u001b[1;34m'%'\u001b[0m\u001b[1;33m)\u001b[0m\u001b[1;33m\u001b[0m\u001b[1;33m\u001b[0m\u001b[0m\n\u001b[1;32m----> 3\u001b[1;33m \u001b[0mns\u001b[0m\u001b[1;33m.\u001b[0m\u001b[0mswarmplot\u001b[0m\u001b[1;33m(\u001b[0m\u001b[0my\u001b[0m\u001b[1;33m=\u001b[0m\u001b[0mdf\u001b[0m\u001b[1;33m.\u001b[0m\u001b[0mbet_amt\u001b[0m\u001b[1;33m)\u001b[0m\u001b[1;33m.\u001b[0m\u001b[0mset_title\u001b[0m\u001b[1;33m(\u001b[0m\u001b[1;34m'Bet variance'\u001b[0m \u001b[1;33m)\u001b[0m\u001b[1;33m\u001b[0m\u001b[1;33m\u001b[0m\u001b[0m\n\u001b[0m\u001b[0;32m      4\u001b[0m \u001b[1;31m#ns.swarmplot(y=Y2).set_title('Bet variance coefficent for CLV players= '+str(round(Y2.std()/Y2.mean() *100))+'%')\u001b[0m\u001b[1;33m\u001b[0m\u001b[1;33m\u001b[0m\u001b[1;33m\u001b[0m\u001b[0m\n",
      "\u001b[1;32m~\\AppData\\Local\\Continuum\\anaconda3\\lib\\site-packages\\seaborn\\_decorators.py\u001b[0m in \u001b[0;36minner_f\u001b[1;34m(*args, **kwargs)\u001b[0m\n\u001b[0;32m     44\u001b[0m             )\n\u001b[0;32m     45\u001b[0m         \u001b[0mkwargs\u001b[0m\u001b[1;33m.\u001b[0m\u001b[0mupdate\u001b[0m\u001b[1;33m(\u001b[0m\u001b[1;33m{\u001b[0m\u001b[0mk\u001b[0m\u001b[1;33m:\u001b[0m \u001b[0marg\u001b[0m \u001b[1;32mfor\u001b[0m \u001b[0mk\u001b[0m\u001b[1;33m,\u001b[0m \u001b[0marg\u001b[0m \u001b[1;32min\u001b[0m \u001b[0mzip\u001b[0m\u001b[1;33m(\u001b[0m\u001b[0msig\u001b[0m\u001b[1;33m.\u001b[0m\u001b[0mparameters\u001b[0m\u001b[1;33m,\u001b[0m \u001b[0margs\u001b[0m\u001b[1;33m)\u001b[0m\u001b[1;33m}\u001b[0m\u001b[1;33m)\u001b[0m\u001b[1;33m\u001b[0m\u001b[1;33m\u001b[0m\u001b[0m\n\u001b[1;32m---> 46\u001b[1;33m         \u001b[1;32mreturn\u001b[0m \u001b[0mf\u001b[0m\u001b[1;33m(\u001b[0m\u001b[1;33m**\u001b[0m\u001b[0mkwargs\u001b[0m\u001b[1;33m)\u001b[0m\u001b[1;33m\u001b[0m\u001b[1;33m\u001b[0m\u001b[0m\n\u001b[0m\u001b[0;32m     47\u001b[0m     \u001b[1;32mreturn\u001b[0m \u001b[0minner_f\u001b[0m\u001b[1;33m\u001b[0m\u001b[1;33m\u001b[0m\u001b[0m\n\u001b[0;32m     48\u001b[0m \u001b[1;33m\u001b[0m\u001b[0m\n",
      "\u001b[1;32m~\\AppData\\Local\\Continuum\\anaconda3\\lib\\site-packages\\seaborn\\categorical.py\u001b[0m in \u001b[0;36mswarmplot\u001b[1;34m(x, y, hue, data, order, hue_order, dodge, orient, color, palette, size, edgecolor, linewidth, ax, **kwargs)\u001b[0m\n\u001b[0;32m   3017\u001b[0m                        linewidth=linewidth))\n\u001b[0;32m   3018\u001b[0m \u001b[1;33m\u001b[0m\u001b[0m\n\u001b[1;32m-> 3019\u001b[1;33m     \u001b[0mplotter\u001b[0m\u001b[1;33m.\u001b[0m\u001b[0mplot\u001b[0m\u001b[1;33m(\u001b[0m\u001b[0max\u001b[0m\u001b[1;33m,\u001b[0m \u001b[0mkwargs\u001b[0m\u001b[1;33m)\u001b[0m\u001b[1;33m\u001b[0m\u001b[1;33m\u001b[0m\u001b[0m\n\u001b[0m\u001b[0;32m   3020\u001b[0m     \u001b[1;32mreturn\u001b[0m \u001b[0max\u001b[0m\u001b[1;33m\u001b[0m\u001b[1;33m\u001b[0m\u001b[0m\n\u001b[0;32m   3021\u001b[0m \u001b[1;33m\u001b[0m\u001b[0m\n",
      "\u001b[1;32m~\\AppData\\Local\\Continuum\\anaconda3\\lib\\site-packages\\seaborn\\categorical.py\u001b[0m in \u001b[0;36mplot\u001b[1;34m(self, ax, kws)\u001b[0m\n\u001b[0;32m   1418\u001b[0m     \u001b[1;32mdef\u001b[0m \u001b[0mplot\u001b[0m\u001b[1;33m(\u001b[0m\u001b[0mself\u001b[0m\u001b[1;33m,\u001b[0m \u001b[0max\u001b[0m\u001b[1;33m,\u001b[0m \u001b[0mkws\u001b[0m\u001b[1;33m)\u001b[0m\u001b[1;33m:\u001b[0m\u001b[1;33m\u001b[0m\u001b[1;33m\u001b[0m\u001b[0m\n\u001b[0;32m   1419\u001b[0m         \u001b[1;34m\"\"\"Make the full plot.\"\"\"\u001b[0m\u001b[1;33m\u001b[0m\u001b[1;33m\u001b[0m\u001b[0m\n\u001b[1;32m-> 1420\u001b[1;33m         \u001b[0mself\u001b[0m\u001b[1;33m.\u001b[0m\u001b[0mdraw_swarmplot\u001b[0m\u001b[1;33m(\u001b[0m\u001b[0max\u001b[0m\u001b[1;33m,\u001b[0m \u001b[0mkws\u001b[0m\u001b[1;33m)\u001b[0m\u001b[1;33m\u001b[0m\u001b[1;33m\u001b[0m\u001b[0m\n\u001b[0m\u001b[0;32m   1421\u001b[0m         \u001b[0mself\u001b[0m\u001b[1;33m.\u001b[0m\u001b[0madd_legend_data\u001b[0m\u001b[1;33m(\u001b[0m\u001b[0max\u001b[0m\u001b[1;33m)\u001b[0m\u001b[1;33m\u001b[0m\u001b[1;33m\u001b[0m\u001b[0m\n\u001b[0;32m   1422\u001b[0m         \u001b[0mself\u001b[0m\u001b[1;33m.\u001b[0m\u001b[0mannotate_axes\u001b[0m\u001b[1;33m(\u001b[0m\u001b[0max\u001b[0m\u001b[1;33m)\u001b[0m\u001b[1;33m\u001b[0m\u001b[1;33m\u001b[0m\u001b[0m\n",
      "\u001b[1;32m~\\AppData\\Local\\Continuum\\anaconda3\\lib\\site-packages\\seaborn\\categorical.py\u001b[0m in \u001b[0;36mdraw_swarmplot\u001b[1;34m(self, ax, kws)\u001b[0m\n\u001b[0;32m   1414\u001b[0m         \u001b[1;32mfor\u001b[0m \u001b[0mcenter\u001b[0m\u001b[1;33m,\u001b[0m \u001b[0mswarm\u001b[0m \u001b[1;32min\u001b[0m \u001b[0mzip\u001b[0m\u001b[1;33m(\u001b[0m\u001b[0mcenters\u001b[0m\u001b[1;33m,\u001b[0m \u001b[0mswarms\u001b[0m\u001b[1;33m)\u001b[0m\u001b[1;33m:\u001b[0m\u001b[1;33m\u001b[0m\u001b[1;33m\u001b[0m\u001b[0m\n\u001b[0;32m   1415\u001b[0m             \u001b[1;32mif\u001b[0m \u001b[0mswarm\u001b[0m\u001b[1;33m.\u001b[0m\u001b[0mget_offsets\u001b[0m\u001b[1;33m(\u001b[0m\u001b[1;33m)\u001b[0m\u001b[1;33m.\u001b[0m\u001b[0msize\u001b[0m\u001b[1;33m:\u001b[0m\u001b[1;33m\u001b[0m\u001b[1;33m\u001b[0m\u001b[0m\n\u001b[1;32m-> 1416\u001b[1;33m                 \u001b[0mself\u001b[0m\u001b[1;33m.\u001b[0m\u001b[0mswarm_points\u001b[0m\u001b[1;33m(\u001b[0m\u001b[0max\u001b[0m\u001b[1;33m,\u001b[0m \u001b[0mswarm\u001b[0m\u001b[1;33m,\u001b[0m \u001b[0mcenter\u001b[0m\u001b[1;33m,\u001b[0m \u001b[0mwidth\u001b[0m\u001b[1;33m,\u001b[0m \u001b[0ms\u001b[0m\u001b[1;33m,\u001b[0m \u001b[1;33m**\u001b[0m\u001b[0mkws\u001b[0m\u001b[1;33m)\u001b[0m\u001b[1;33m\u001b[0m\u001b[1;33m\u001b[0m\u001b[0m\n\u001b[0m\u001b[0;32m   1417\u001b[0m \u001b[1;33m\u001b[0m\u001b[0m\n\u001b[0;32m   1418\u001b[0m     \u001b[1;32mdef\u001b[0m \u001b[0mplot\u001b[0m\u001b[1;33m(\u001b[0m\u001b[0mself\u001b[0m\u001b[1;33m,\u001b[0m \u001b[0max\u001b[0m\u001b[1;33m,\u001b[0m \u001b[0mkws\u001b[0m\u001b[1;33m)\u001b[0m\u001b[1;33m:\u001b[0m\u001b[1;33m\u001b[0m\u001b[1;33m\u001b[0m\u001b[0m\n",
      "\u001b[1;32m~\\AppData\\Local\\Continuum\\anaconda3\\lib\\site-packages\\seaborn\\categorical.py\u001b[0m in \u001b[0;36mswarm_points\u001b[1;34m(self, ax, points, center, width, s, **kws)\u001b[0m\n\u001b[0;32m   1316\u001b[0m \u001b[1;33m\u001b[0m\u001b[0m\n\u001b[0;32m   1317\u001b[0m         \u001b[1;31m# Do the beeswarm in point coordinates\u001b[0m\u001b[1;33m\u001b[0m\u001b[1;33m\u001b[0m\u001b[1;33m\u001b[0m\u001b[0m\n\u001b[1;32m-> 1318\u001b[1;33m         \u001b[0mnew_xy\u001b[0m \u001b[1;33m=\u001b[0m \u001b[0mself\u001b[0m\u001b[1;33m.\u001b[0m\u001b[0mbeeswarm\u001b[0m\u001b[1;33m(\u001b[0m\u001b[0morig_xy\u001b[0m\u001b[1;33m,\u001b[0m \u001b[0md\u001b[0m\u001b[1;33m)\u001b[0m\u001b[1;33m\u001b[0m\u001b[1;33m\u001b[0m\u001b[0m\n\u001b[0m\u001b[0;32m   1319\u001b[0m \u001b[1;33m\u001b[0m\u001b[0m\n\u001b[0;32m   1320\u001b[0m         \u001b[1;31m# Transform the point coordinates back to data coordinates\u001b[0m\u001b[1;33m\u001b[0m\u001b[1;33m\u001b[0m\u001b[1;33m\u001b[0m\u001b[0m\n",
      "\u001b[1;32m~\\AppData\\Local\\Continuum\\anaconda3\\lib\\site-packages\\seaborn\\categorical.py\u001b[0m in \u001b[0;36mbeeswarm\u001b[1;34m(self, orig_xy, d)\u001b[0m\n\u001b[0;32m   1269\u001b[0m             \u001b[1;31m# Find the first candidate that does not overlap any neighbours\u001b[0m\u001b[1;33m\u001b[0m\u001b[1;33m\u001b[0m\u001b[1;33m\u001b[0m\u001b[0m\n\u001b[0;32m   1270\u001b[0m             new_xy_i = self.first_non_overlapping_candidate(candidates,\n\u001b[1;32m-> 1271\u001b[1;33m                                                             neighbors, d)\n\u001b[0m\u001b[0;32m   1272\u001b[0m \u001b[1;33m\u001b[0m\u001b[0m\n\u001b[0;32m   1273\u001b[0m             \u001b[1;31m# Place it into the swarm\u001b[0m\u001b[1;33m\u001b[0m\u001b[1;33m\u001b[0m\u001b[1;33m\u001b[0m\u001b[0m\n",
      "\u001b[1;32m~\\AppData\\Local\\Continuum\\anaconda3\\lib\\site-packages\\seaborn\\categorical.py\u001b[0m in \u001b[0;36mfirst_non_overlapping_candidate\u001b[1;34m(self, candidates, neighbors, d)\u001b[0m\n\u001b[0;32m   1224\u001b[0m             \u001b[0mx_i\u001b[0m\u001b[1;33m,\u001b[0m \u001b[0my_i\u001b[0m \u001b[1;33m=\u001b[0m \u001b[0mxy_i\u001b[0m\u001b[1;33m\u001b[0m\u001b[1;33m\u001b[0m\u001b[0m\n\u001b[0;32m   1225\u001b[0m \u001b[1;33m\u001b[0m\u001b[0m\n\u001b[1;32m-> 1226\u001b[1;33m             \u001b[0mdx\u001b[0m \u001b[1;33m=\u001b[0m \u001b[0mneighbors_x\u001b[0m \u001b[1;33m-\u001b[0m \u001b[0mx_i\u001b[0m\u001b[1;33m\u001b[0m\u001b[1;33m\u001b[0m\u001b[0m\n\u001b[0m\u001b[0;32m   1227\u001b[0m             \u001b[0mdy\u001b[0m \u001b[1;33m=\u001b[0m \u001b[0mneighbors_y\u001b[0m \u001b[1;33m-\u001b[0m \u001b[0my_i\u001b[0m\u001b[1;33m\u001b[0m\u001b[1;33m\u001b[0m\u001b[0m\n\u001b[0;32m   1228\u001b[0m \u001b[1;33m\u001b[0m\u001b[0m\n",
      "\u001b[1;31mKeyboardInterrupt\u001b[0m: "
     ]
    },
    {
     "data": {
      "image/png": "[encoded data removed]",
      "text/plain": [
       "<Figure size 432x288 with 1 Axes>"
      ]
     },
     "metadata": {
      "needs_background": "light"
     },
     "output_type": "display_data"
    }
   ],
   "source": [
    "\n",
    "Y1=df['bet_amt'].std()/df['bet_amt'].mean()\n",
    "print('Variance coeffiecents for bet amt:' +str( round(Y1*100) )+'%')\n",
    "ns.swarmplot(y=df.bet_amt).set_title('Bet variance' )\n",
    "#ns.swarmplot(y=Y2).set_title('Bet variance coefficent for CLV players= '+str(round(Y2.std()/Y2.mean() *100))+'%')\n"
   ]
  },
  {
   "cell_type": "markdown",
   "id": "0f061544",
   "metadata": {},
   "source": [
    "Altough this isn't going to be what we would normally do in reality we'll remove the outliers using a 3 zscore rule from the managed group and match the number of CLV only players to the final number of Managed players"
   ]
  },
  {
   "cell_type": "code",
   "execution_count": 11,
   "id": "198ddb64",
   "metadata": {},
   "outputs": [
    {
     "data": {
      "text/plain": [
       "3532"
      ]
     },
     "execution_count": 11,
     "metadata": {},
     "output_type": "execute_result"
    }
   ],
   "source": [
    "from scipy import stats\n",
    "A=df[['bet_amt']]\n",
    "A=A[(np.abs(stats.zscore(A)) < 3).all(axis=1)]\n",
    "len(A)\n",
    "\n",
    "               "
   ]
  },
  {
   "cell_type": "markdown",
   "id": "7ed546d0",
   "metadata": {},
   "source": [
    "Removing outliers"
   ]
  },
  {
   "cell_type": "markdown",
   "id": "d9a159d3",
   "metadata": {},
   "source": [
    "Below we have 2 functions:\n",
    "    \n",
    "    1) s_size--> finds the optimal sample size for a given lift %,requires 2 arguments: df and increase\n",
    "    2) s_inc--> for a maxed sample size of len(x)/2 determines MDE for P=0.1 requires 1 argument: data"
   ]
  },
  {
   "cell_type": "code",
   "execution_count": 358,
   "id": "6f7ff752",
   "metadata": {
    "scrolled": true
   },
   "outputs": [
    {
     "name": "stdout",
     "output_type": "stream",
     "text": [
      "Largest divisor of 169 is 13\n",
      "\n",
      "\n",
      "would you like to proceed with this sample size increase? Y/N\n",
      "y\n"
     ]
    },
    {
     "name": "stderr",
     "output_type": "stream",
     "text": [
      "C:\\Users\\apelle\\AppData\\Local\\Continuum\\anaconda3\\lib\\site-packages\\ipykernel_launcher.py:69: TqdmDeprecationWarning: This function will be removed in tqdm==5.0.0\n",
      "Please use `tqdm.notebook.tqdm` instead of `tqdm.tqdm_notebook`\n"
     ]
    },
    {
     "data": {
      "application/vnd.jupyter.widget-view+json": {
       "model_id": "76a7011b3de94d23ab213f29572d520d",
       "version_major": 2,
       "version_minor": 0
      },
      "text/plain": [
       "  0%|          | 0/12 [00:00<?, ?it/s]"
      ]
     },
     "metadata": {},
     "output_type": "display_data"
    },
    {
     "name": "stderr",
     "output_type": "stream",
     "text": [
      "C:\\Users\\apelle\\AppData\\Local\\Continuum\\anaconda3\\lib\\site-packages\\ipykernel_launcher.py:70: TqdmDeprecationWarning: This function will be removed in tqdm==5.0.0\n",
      "Please use `tqdm.notebook.tqdm` instead of `tqdm.tqdm_notebook`\n"
     ]
    },
    {
     "data": {
      "application/vnd.jupyter.widget-view+json": {
       "model_id": "",
       "version_major": 2,
       "version_minor": 0
      },
      "text/plain": [
       "  0%|          | 0/10000 [00:00<?, ?it/s]"
      ]
     },
     "metadata": {},
     "output_type": "display_data"
    },
    {
     "name": "stderr",
     "output_type": "stream",
     "text": [
      "C:\\Users\\apelle\\AppData\\Local\\Continuum\\anaconda3\\lib\\site-packages\\numpy\\core\\_methods.py:179: RuntimeWarning: overflow encountered in reduce\n",
      "  ret = umr_sum(arr, axis, dtype, out, keepdims, where=where)\n"
     ]
    },
    {
     "data": {
      "application/vnd.jupyter.widget-view+json": {
       "model_id": "",
       "version_major": 2,
       "version_minor": 0
      },
      "text/plain": [
       "  0%|          | 0/10000 [00:00<?, ?it/s]"
      ]
     },
     "metadata": {},
     "output_type": "display_data"
    },
    {
     "data": {
      "application/vnd.jupyter.widget-view+json": {
       "model_id": "",
       "version_major": 2,
       "version_minor": 0
      },
      "text/plain": [
       "  0%|          | 0/10000 [00:00<?, ?it/s]"
      ]
     },
     "metadata": {},
     "output_type": "display_data"
    },
    {
     "data": {
      "application/vnd.jupyter.widget-view+json": {
       "model_id": "",
       "version_major": 2,
       "version_minor": 0
      },
      "text/plain": [
       "  0%|          | 0/10000 [00:00<?, ?it/s]"
      ]
     },
     "metadata": {},
     "output_type": "display_data"
    },
    {
     "data": {
      "application/vnd.jupyter.widget-view+json": {
       "model_id": "",
       "version_major": 2,
       "version_minor": 0
      },
      "text/plain": [
       "  0%|          | 0/10000 [00:00<?, ?it/s]"
      ]
     },
     "metadata": {},
     "output_type": "display_data"
    },
    {
     "data": {
      "application/vnd.jupyter.widget-view+json": {
       "model_id": "",
       "version_major": 2,
       "version_minor": 0
      },
      "text/plain": [
       "  0%|          | 0/10000 [00:00<?, ?it/s]"
      ]
     },
     "metadata": {},
     "output_type": "display_data"
    },
    {
     "data": {
      "application/vnd.jupyter.widget-view+json": {
       "model_id": "",
       "version_major": 2,
       "version_minor": 0
      },
      "text/plain": [
       "  0%|          | 0/10000 [00:00<?, ?it/s]"
      ]
     },
     "metadata": {},
     "output_type": "display_data"
    },
    {
     "data": {
      "application/vnd.jupyter.widget-view+json": {
       "model_id": "",
       "version_major": 2,
       "version_minor": 0
      },
      "text/plain": [
       "  0%|          | 0/10000 [00:00<?, ?it/s]"
      ]
     },
     "metadata": {},
     "output_type": "display_data"
    },
    {
     "data": {
      "application/vnd.jupyter.widget-view+json": {
       "model_id": "",
       "version_major": 2,
       "version_minor": 0
      },
      "text/plain": [
       "  0%|          | 0/10000 [00:00<?, ?it/s]"
      ]
     },
     "metadata": {},
     "output_type": "display_data"
    },
    {
     "data": {
      "application/vnd.jupyter.widget-view+json": {
       "model_id": "",
       "version_major": 2,
       "version_minor": 0
      },
      "text/plain": [
       "  0%|          | 0/10000 [00:00<?, ?it/s]"
      ]
     },
     "metadata": {},
     "output_type": "display_data"
    },
    {
     "data": {
      "application/vnd.jupyter.widget-view+json": {
       "model_id": "",
       "version_major": 2,
       "version_minor": 0
      },
      "text/plain": [
       "  0%|          | 0/10000 [00:00<?, ?it/s]"
      ]
     },
     "metadata": {},
     "output_type": "display_data"
    },
    {
     "data": {
      "application/vnd.jupyter.widget-view+json": {
       "model_id": "",
       "version_major": 2,
       "version_minor": 0
      },
      "text/plain": [
       "  0%|          | 0/10000 [00:00<?, ?it/s]"
      ]
     },
     "metadata": {},
     "output_type": "display_data"
    },
    {
     "data": {
      "text/html": [
       "<div>\n",
       "<style scoped>\n",
       "    .dataframe tbody tr th:only-of-type {\n",
       "        vertical-align: middle;\n",
       "    }\n",
       "\n",
       "    .dataframe tbody tr th {\n",
       "        vertical-align: top;\n",
       "    }\n",
       "\n",
       "    .dataframe thead th {\n",
       "        text-align: right;\n",
       "    }\n",
       "</style>\n",
       "<table border=\"1\" class=\"dataframe\">\n",
       "  <thead>\n",
       "    <tr style=\"text-align: right;\">\n",
       "      <th></th>\n",
       "      <th>sample size</th>\n",
       "      <th>mean control</th>\n",
       "      <th>std_control</th>\n",
       "      <th>std_test</th>\n",
       "      <th>mean test</th>\n",
       "      <th>mean delta</th>\n",
       "      <th>delta LB</th>\n",
       "      <th>delta UB</th>\n",
       "      <th>P(T&gt;C)</th>\n",
       "    </tr>\n",
       "  </thead>\n",
       "  <tbody>\n",
       "    <tr>\n",
       "      <th>0</th>\n",
       "      <td>13</td>\n",
       "      <td>6137.53</td>\n",
       "      <td>18747.01</td>\n",
       "      <td>6570.30</td>\n",
       "      <td>8111.54</td>\n",
       "      <td>1974.01</td>\n",
       "      <td>-10241.37</td>\n",
       "      <td>15991.36</td>\n",
       "      <td>0.64</td>\n",
       "    </tr>\n",
       "    <tr>\n",
       "      <th>1</th>\n",
       "      <td>26</td>\n",
       "      <td>6151.70</td>\n",
       "      <td>3820.70</td>\n",
       "      <td>21370.48</td>\n",
       "      <td>8021.07</td>\n",
       "      <td>1869.37</td>\n",
       "      <td>-6477.54</td>\n",
       "      <td>11124.68</td>\n",
       "      <td>0.67</td>\n",
       "    </tr>\n",
       "    <tr>\n",
       "      <th>2</th>\n",
       "      <td>39</td>\n",
       "      <td>6162.27</td>\n",
       "      <td>7509.10</td>\n",
       "      <td>12007.84</td>\n",
       "      <td>8047.97</td>\n",
       "      <td>1885.70</td>\n",
       "      <td>-4916.80</td>\n",
       "      <td>9330.34</td>\n",
       "      <td>0.71</td>\n",
       "    </tr>\n",
       "    <tr>\n",
       "      <th>3</th>\n",
       "      <td>52</td>\n",
       "      <td>6145.58</td>\n",
       "      <td>4657.92</td>\n",
       "      <td>12458.06</td>\n",
       "      <td>8071.19</td>\n",
       "      <td>1925.62</td>\n",
       "      <td>-3958.54</td>\n",
       "      <td>8422.90</td>\n",
       "      <td>0.74</td>\n",
       "    </tr>\n",
       "    <tr>\n",
       "      <th>4</th>\n",
       "      <td>65</td>\n",
       "      <td>6150.67</td>\n",
       "      <td>6770.19</td>\n",
       "      <td>12818.63</td>\n",
       "      <td>8013.82</td>\n",
       "      <td>1863.15</td>\n",
       "      <td>-3469.90</td>\n",
       "      <td>7471.68</td>\n",
       "      <td>0.76</td>\n",
       "    </tr>\n",
       "    <tr>\n",
       "      <th>5</th>\n",
       "      <td>78</td>\n",
       "      <td>6161.01</td>\n",
       "      <td>7865.01</td>\n",
       "      <td>12369.94</td>\n",
       "      <td>8035.62</td>\n",
       "      <td>1874.61</td>\n",
       "      <td>-2904.82</td>\n",
       "      <td>7052.00</td>\n",
       "      <td>0.77</td>\n",
       "    </tr>\n",
       "    <tr>\n",
       "      <th>6</th>\n",
       "      <td>91</td>\n",
       "      <td>6193.04</td>\n",
       "      <td>7638.36</td>\n",
       "      <td>20838.28</td>\n",
       "      <td>8043.77</td>\n",
       "      <td>1850.73</td>\n",
       "      <td>-2724.63</td>\n",
       "      <td>6746.25</td>\n",
       "      <td>0.79</td>\n",
       "    </tr>\n",
       "    <tr>\n",
       "      <th>7</th>\n",
       "      <td>104</td>\n",
       "      <td>6188.43</td>\n",
       "      <td>5407.28</td>\n",
       "      <td>19731.15</td>\n",
       "      <td>8025.91</td>\n",
       "      <td>1837.48</td>\n",
       "      <td>-2370.79</td>\n",
       "      <td>6243.88</td>\n",
       "      <td>0.80</td>\n",
       "    </tr>\n",
       "    <tr>\n",
       "      <th>8</th>\n",
       "      <td>117</td>\n",
       "      <td>6190.82</td>\n",
       "      <td>4599.47</td>\n",
       "      <td>17191.49</td>\n",
       "      <td>8041.20</td>\n",
       "      <td>1850.38</td>\n",
       "      <td>-2102.69</td>\n",
       "      <td>6050.25</td>\n",
       "      <td>0.81</td>\n",
       "    </tr>\n",
       "    <tr>\n",
       "      <th>9</th>\n",
       "      <td>130</td>\n",
       "      <td>6178.10</td>\n",
       "      <td>9188.79</td>\n",
       "      <td>14009.59</td>\n",
       "      <td>8070.11</td>\n",
       "      <td>1892.00</td>\n",
       "      <td>-1846.49</td>\n",
       "      <td>5820.99</td>\n",
       "      <td>0.83</td>\n",
       "    </tr>\n",
       "    <tr>\n",
       "      <th>10</th>\n",
       "      <td>143</td>\n",
       "      <td>6200.74</td>\n",
       "      <td>8653.42</td>\n",
       "      <td>10777.74</td>\n",
       "      <td>8025.61</td>\n",
       "      <td>1824.87</td>\n",
       "      <td>-1822.91</td>\n",
       "      <td>5602.18</td>\n",
       "      <td>0.83</td>\n",
       "    </tr>\n",
       "    <tr>\n",
       "      <th>11</th>\n",
       "      <td>156</td>\n",
       "      <td>6184.14</td>\n",
       "      <td>9159.18</td>\n",
       "      <td>11308.78</td>\n",
       "      <td>8038.72</td>\n",
       "      <td>1854.58</td>\n",
       "      <td>-1610.36</td>\n",
       "      <td>5483.95</td>\n",
       "      <td>0.85</td>\n",
       "    </tr>\n",
       "  </tbody>\n",
       "</table>\n",
       "</div>"
      ],
      "text/plain": [
       "    sample size  mean control  std_control  std_test  mean test  mean delta  \\\n",
       "0            13       6137.53     18747.01   6570.30    8111.54     1974.01   \n",
       "1            26       6151.70      3820.70  21370.48    8021.07     1869.37   \n",
       "2            39       6162.27      7509.10  12007.84    8047.97     1885.70   \n",
       "3            52       6145.58      4657.92  12458.06    8071.19     1925.62   \n",
       "4            65       6150.67      6770.19  12818.63    8013.82     1863.15   \n",
       "5            78       6161.01      7865.01  12369.94    8035.62     1874.61   \n",
       "6            91       6193.04      7638.36  20838.28    8043.77     1850.73   \n",
       "7           104       6188.43      5407.28  19731.15    8025.91     1837.48   \n",
       "8           117       6190.82      4599.47  17191.49    8041.20     1850.38   \n",
       "9           130       6178.10      9188.79  14009.59    8070.11     1892.00   \n",
       "10          143       6200.74      8653.42  10777.74    8025.61     1824.87   \n",
       "11          156       6184.14      9159.18  11308.78    8038.72     1854.58   \n",
       "\n",
       "    delta LB  delta UB  P(T>C)  \n",
       "0  -10241.37  15991.36    0.64  \n",
       "1   -6477.54  11124.68    0.67  \n",
       "2   -4916.80   9330.34    0.71  \n",
       "3   -3958.54   8422.90    0.74  \n",
       "4   -3469.90   7471.68    0.76  \n",
       "5   -2904.82   7052.00    0.77  \n",
       "6   -2724.63   6746.25    0.79  \n",
       "7   -2370.79   6243.88    0.80  \n",
       "8   -2102.69   6050.25    0.81  \n",
       "9   -1846.49   5820.99    0.83  \n",
       "10  -1822.91   5602.18    0.83  \n",
       "11  -1610.36   5483.95    0.85  "
      ]
     },
     "execution_count": 358,
     "metadata": {},
     "output_type": "execute_result"
    },
    {
     "data": {
      "image/png": "[encoded data removed]",
      "text/plain": [
       "<Figure size 432x288 with 1 Axes>"
      ]
     },
     "metadata": {
      "needs_background": "light"
     },
     "output_type": "display_data"
    }
   ],
   "source": [
    "s_size(A,0.3)"
   ]
  },
  {
   "cell_type": "code",
   "execution_count": 12,
   "id": "b717d842",
   "metadata": {},
   "outputs": [],
   "source": [
    "import size_calc as sc"
   ]
  },
  {
   "cell_type": "code",
   "execution_count": 13,
   "id": "1d55cba2",
   "metadata": {},
   "outputs": [
    {
     "name": "stdout",
     "output_type": "stream",
     "text": [
      "your sample size has been reduced to:3532 in order to ensure a 50% split\n"
     ]
    },
    {
     "data": {
      "application/vnd.jupyter.widget-view+json": {
       "model_id": "0957b06e42f344508d20c3837886c292",
       "version_major": 2,
       "version_minor": 0
      },
      "text/plain": [
       "  0%|          | 0/11 [00:00<?, ?it/s]"
      ]
     },
     "metadata": {},
     "output_type": "display_data"
    },
    {
     "data": {
      "application/vnd.jupyter.widget-view+json": {
       "model_id": "",
       "version_major": 2,
       "version_minor": 0
      },
      "text/plain": [
       "  0%|          | 0/10000 [00:00<?, ?it/s]"
      ]
     },
     "metadata": {},
     "output_type": "display_data"
    },
    {
     "data": {
      "application/vnd.jupyter.widget-view+json": {
       "model_id": "",
       "version_major": 2,
       "version_minor": 0
      },
      "text/plain": [
       "  0%|          | 0/10000 [00:00<?, ?it/s]"
      ]
     },
     "metadata": {},
     "output_type": "display_data"
    },
    {
     "data": {
      "application/vnd.jupyter.widget-view+json": {
       "model_id": "",
       "version_major": 2,
       "version_minor": 0
      },
      "text/plain": [
       "  0%|          | 0/10000 [00:00<?, ?it/s]"
      ]
     },
     "metadata": {},
     "output_type": "display_data"
    },
    {
     "data": {
      "application/vnd.jupyter.widget-view+json": {
       "model_id": "",
       "version_major": 2,
       "version_minor": 0
      },
      "text/plain": [
       "  0%|          | 0/10000 [00:00<?, ?it/s]"
      ]
     },
     "metadata": {},
     "output_type": "display_data"
    },
    {
     "data": {
      "application/vnd.jupyter.widget-view+json": {
       "model_id": "",
       "version_major": 2,
       "version_minor": 0
      },
      "text/plain": [
       "  0%|          | 0/10000 [00:00<?, ?it/s]"
      ]
     },
     "metadata": {},
     "output_type": "display_data"
    },
    {
     "data": {
      "application/vnd.jupyter.widget-view+json": {
       "model_id": "",
       "version_major": 2,
       "version_minor": 0
      },
      "text/plain": [
       "  0%|          | 0/10000 [00:00<?, ?it/s]"
      ]
     },
     "metadata": {},
     "output_type": "display_data"
    },
    {
     "data": {
      "application/vnd.jupyter.widget-view+json": {
       "model_id": "",
       "version_major": 2,
       "version_minor": 0
      },
      "text/plain": [
       "  0%|          | 0/10000 [00:00<?, ?it/s]"
      ]
     },
     "metadata": {},
     "output_type": "display_data"
    },
    {
     "data": {
      "application/vnd.jupyter.widget-view+json": {
       "model_id": "",
       "version_major": 2,
       "version_minor": 0
      },
      "text/plain": [
       "  0%|          | 0/10000 [00:00<?, ?it/s]"
      ]
     },
     "metadata": {},
     "output_type": "display_data"
    },
    {
     "data": {
      "application/vnd.jupyter.widget-view+json": {
       "model_id": "",
       "version_major": 2,
       "version_minor": 0
      },
      "text/plain": [
       "  0%|          | 0/10000 [00:00<?, ?it/s]"
      ]
     },
     "metadata": {},
     "output_type": "display_data"
    },
    {
     "data": {
      "application/vnd.jupyter.widget-view+json": {
       "model_id": "",
       "version_major": 2,
       "version_minor": 0
      },
      "text/plain": [
       "  0%|          | 0/10000 [00:00<?, ?it/s]"
      ]
     },
     "metadata": {},
     "output_type": "display_data"
    },
    {
     "data": {
      "application/vnd.jupyter.widget-view+json": {
       "model_id": "1882d6130d414171ba67b75c7b7ca300",
       "version_major": 2,
       "version_minor": 0
      },
      "text/plain": [
       "  0%|          | 0/10000 [00:00<?, ?it/s]"
      ]
     },
     "metadata": {},
     "output_type": "display_data"
    },
    {
     "data": {
      "text/html": [
       "<div>\n",
       "<style scoped>\n",
       "    .dataframe tbody tr th:only-of-type {\n",
       "        vertical-align: middle;\n",
       "    }\n",
       "\n",
       "    .dataframe tbody tr th {\n",
       "        vertical-align: top;\n",
       "    }\n",
       "\n",
       "    .dataframe thead th {\n",
       "        text-align: right;\n",
       "    }\n",
       "</style>\n",
       "<table border=\"1\" class=\"dataframe\">\n",
       "  <thead>\n",
       "    <tr style=\"text-align: right;\">\n",
       "      <th></th>\n",
       "      <th>increase</th>\n",
       "      <th>mean control</th>\n",
       "      <th>std_control</th>\n",
       "      <th>std_test</th>\n",
       "      <th>mean test</th>\n",
       "      <th>mean delta</th>\n",
       "      <th>delta LB</th>\n",
       "      <th>delta UB</th>\n",
       "      <th>P(T&gt;C)</th>\n",
       "    </tr>\n",
       "  </thead>\n",
       "  <tbody>\n",
       "    <tr>\n",
       "      <th>0</th>\n",
       "      <td>5</td>\n",
       "      <td>18621.69</td>\n",
       "      <td>29140.39</td>\n",
       "      <td>29606.53</td>\n",
       "      <td>19544.16</td>\n",
       "      <td>922.47</td>\n",
       "      <td>-1799.79</td>\n",
       "      <td>3682.82</td>\n",
       "      <td>0.74</td>\n",
       "    </tr>\n",
       "    <tr>\n",
       "      <th>1</th>\n",
       "      <td>10</td>\n",
       "      <td>18619.96</td>\n",
       "      <td>29850.52</td>\n",
       "      <td>31614.84</td>\n",
       "      <td>20487.32</td>\n",
       "      <td>1867.35</td>\n",
       "      <td>-967.85</td>\n",
       "      <td>4687.76</td>\n",
       "      <td>0.90</td>\n",
       "    </tr>\n",
       "    <tr>\n",
       "      <th>2</th>\n",
       "      <td>15</td>\n",
       "      <td>18637.03</td>\n",
       "      <td>29549.29</td>\n",
       "      <td>32556.24</td>\n",
       "      <td>21396.58</td>\n",
       "      <td>2759.55</td>\n",
       "      <td>-197.90</td>\n",
       "      <td>5716.95</td>\n",
       "      <td>0.97</td>\n",
       "    </tr>\n",
       "    <tr>\n",
       "      <th>3</th>\n",
       "      <td>20</td>\n",
       "      <td>18624.06</td>\n",
       "      <td>28790.82</td>\n",
       "      <td>35663.95</td>\n",
       "      <td>22363.65</td>\n",
       "      <td>3739.59</td>\n",
       "      <td>775.54</td>\n",
       "      <td>6823.06</td>\n",
       "      <td>0.99</td>\n",
       "    </tr>\n",
       "    <tr>\n",
       "      <th>4</th>\n",
       "      <td>25</td>\n",
       "      <td>18619.98</td>\n",
       "      <td>28964.68</td>\n",
       "      <td>38988.67</td>\n",
       "      <td>23271.67</td>\n",
       "      <td>4651.69</td>\n",
       "      <td>1648.06</td>\n",
       "      <td>7732.94</td>\n",
       "      <td>1.00</td>\n",
       "    </tr>\n",
       "    <tr>\n",
       "      <th>5</th>\n",
       "      <td>30</td>\n",
       "      <td>18627.04</td>\n",
       "      <td>31008.46</td>\n",
       "      <td>37524.49</td>\n",
       "      <td>24202.97</td>\n",
       "      <td>5575.94</td>\n",
       "      <td>2416.83</td>\n",
       "      <td>8660.57</td>\n",
       "      <td>1.00</td>\n",
       "    </tr>\n",
       "    <tr>\n",
       "      <th>6</th>\n",
       "      <td>35</td>\n",
       "      <td>18611.81</td>\n",
       "      <td>28142.51</td>\n",
       "      <td>37054.28</td>\n",
       "      <td>25150.25</td>\n",
       "      <td>6538.44</td>\n",
       "      <td>3366.99</td>\n",
       "      <td>9861.31</td>\n",
       "      <td>1.00</td>\n",
       "    </tr>\n",
       "    <tr>\n",
       "      <th>7</th>\n",
       "      <td>40</td>\n",
       "      <td>18607.98</td>\n",
       "      <td>30288.79</td>\n",
       "      <td>37151.36</td>\n",
       "      <td>26086.55</td>\n",
       "      <td>7478.57</td>\n",
       "      <td>4259.02</td>\n",
       "      <td>10708.75</td>\n",
       "      <td>1.00</td>\n",
       "    </tr>\n",
       "    <tr>\n",
       "      <th>8</th>\n",
       "      <td>45</td>\n",
       "      <td>18623.76</td>\n",
       "      <td>26730.20</td>\n",
       "      <td>43008.70</td>\n",
       "      <td>26990.83</td>\n",
       "      <td>8367.08</td>\n",
       "      <td>5151.07</td>\n",
       "      <td>11718.20</td>\n",
       "      <td>1.00</td>\n",
       "    </tr>\n",
       "    <tr>\n",
       "      <th>9</th>\n",
       "      <td>50</td>\n",
       "      <td>18630.12</td>\n",
       "      <td>30126.72</td>\n",
       "      <td>41382.80</td>\n",
       "      <td>27928.87</td>\n",
       "      <td>9298.75</td>\n",
       "      <td>5892.77</td>\n",
       "      <td>12813.15</td>\n",
       "      <td>1.00</td>\n",
       "    </tr>\n",
       "    <tr>\n",
       "      <th>10</th>\n",
       "      <td>55</td>\n",
       "      <td>18611.85</td>\n",
       "      <td>30510.30</td>\n",
       "      <td>44760.45</td>\n",
       "      <td>28878.78</td>\n",
       "      <td>10266.93</td>\n",
       "      <td>6846.19</td>\n",
       "      <td>13714.00</td>\n",
       "      <td>1.00</td>\n",
       "    </tr>\n",
       "  </tbody>\n",
       "</table>\n",
       "</div>"
      ],
      "text/plain": [
       "    increase  mean control  std_control  std_test  mean test  mean delta  \\\n",
       "0          5      18621.69     29140.39  29606.53   19544.16      922.47   \n",
       "1         10      18619.96     29850.52  31614.84   20487.32     1867.35   \n",
       "2         15      18637.03     29549.29  32556.24   21396.58     2759.55   \n",
       "3         20      18624.06     28790.82  35663.95   22363.65     3739.59   \n",
       "4         25      18619.98     28964.68  38988.67   23271.67     4651.69   \n",
       "5         30      18627.04     31008.46  37524.49   24202.97     5575.94   \n",
       "6         35      18611.81     28142.51  37054.28   25150.25     6538.44   \n",
       "7         40      18607.98     30288.79  37151.36   26086.55     7478.57   \n",
       "8         45      18623.76     26730.20  43008.70   26990.83     8367.08   \n",
       "9         50      18630.12     30126.72  41382.80   27928.87     9298.75   \n",
       "10        55      18611.85     30510.30  44760.45   28878.78    10266.93   \n",
       "\n",
       "    delta LB  delta UB  P(T>C)  \n",
       "0   -1799.79   3682.82    0.74  \n",
       "1    -967.85   4687.76    0.90  \n",
       "2    -197.90   5716.95    0.97  \n",
       "3     775.54   6823.06    0.99  \n",
       "4    1648.06   7732.94    1.00  \n",
       "5    2416.83   8660.57    1.00  \n",
       "6    3366.99   9861.31    1.00  \n",
       "7    4259.02  10708.75    1.00  \n",
       "8    5151.07  11718.20    1.00  \n",
       "9    5892.77  12813.15    1.00  \n",
       "10   6846.19  13714.00    1.00  "
      ]
     },
     "execution_count": 13,
     "metadata": {},
     "output_type": "execute_result"
    },
    {
     "data": {
      "image/png": "[encoded data removed]",
      "text/plain": [
       "<Figure size 432x288 with 1 Axes>"
      ]
     },
     "metadata": {
      "needs_background": "light"
     },
     "output_type": "display_data"
    }
   ],
   "source": [
    "sc.s_inc(A)"
   ]
  },
  {
   "cell_type": "code",
   "execution_count": null,
   "id": "b101306f",
   "metadata": {},
   "outputs": [],
   "source": []
  },
  {
   "cell_type": "code",
   "execution_count": 24,
   "id": "25adb9e8",
   "metadata": {},
   "outputs": [
    {
     "name": "stdout",
     "output_type": "stream",
     "text": [
      "Largest divisor of 169 is 13\n",
      "\n",
      "\n",
      "would you like to proceed with this sample size increase? Y/N\n",
      "Y\n"
     ]
    },
    {
     "data": {
      "application/vnd.jupyter.widget-view+json": {
       "model_id": "5f9af8aead284ab6966b9a346e2c1bbc",
       "version_major": 2,
       "version_minor": 0
      },
      "text/plain": [
       "  0%|          | 0/12 [00:00<?, ?it/s]"
      ]
     },
     "metadata": {},
     "output_type": "display_data"
    },
    {
     "data": {
      "application/vnd.jupyter.widget-view+json": {
       "model_id": "",
       "version_major": 2,
       "version_minor": 0
      },
      "text/plain": [
       "  0%|          | 0/10000 [00:00<?, ?it/s]"
      ]
     },
     "metadata": {},
     "output_type": "display_data"
    },
    {
     "data": {
      "application/vnd.jupyter.widget-view+json": {
       "model_id": "",
       "version_major": 2,
       "version_minor": 0
      },
      "text/plain": [
       "  0%|          | 0/10000 [00:00<?, ?it/s]"
      ]
     },
     "metadata": {},
     "output_type": "display_data"
    },
    {
     "data": {
      "application/vnd.jupyter.widget-view+json": {
       "model_id": "",
       "version_major": 2,
       "version_minor": 0
      },
      "text/plain": [
       "  0%|          | 0/10000 [00:00<?, ?it/s]"
      ]
     },
     "metadata": {},
     "output_type": "display_data"
    },
    {
     "data": {
      "application/vnd.jupyter.widget-view+json": {
       "model_id": "",
       "version_major": 2,
       "version_minor": 0
      },
      "text/plain": [
       "  0%|          | 0/10000 [00:00<?, ?it/s]"
      ]
     },
     "metadata": {},
     "output_type": "display_data"
    },
    {
     "data": {
      "application/vnd.jupyter.widget-view+json": {
       "model_id": "",
       "version_major": 2,
       "version_minor": 0
      },
      "text/plain": [
       "  0%|          | 0/10000 [00:00<?, ?it/s]"
      ]
     },
     "metadata": {},
     "output_type": "display_data"
    },
    {
     "data": {
      "application/vnd.jupyter.widget-view+json": {
       "model_id": "",
       "version_major": 2,
       "version_minor": 0
      },
      "text/plain": [
       "  0%|          | 0/10000 [00:00<?, ?it/s]"
      ]
     },
     "metadata": {},
     "output_type": "display_data"
    },
    {
     "data": {
      "application/vnd.jupyter.widget-view+json": {
       "model_id": "",
       "version_major": 2,
       "version_minor": 0
      },
      "text/plain": [
       "  0%|          | 0/10000 [00:00<?, ?it/s]"
      ]
     },
     "metadata": {},
     "output_type": "display_data"
    },
    {
     "data": {
      "application/vnd.jupyter.widget-view+json": {
       "model_id": "",
       "version_major": 2,
       "version_minor": 0
      },
      "text/plain": [
       "  0%|          | 0/10000 [00:00<?, ?it/s]"
      ]
     },
     "metadata": {},
     "output_type": "display_data"
    },
    {
     "data": {
      "application/vnd.jupyter.widget-view+json": {
       "model_id": "",
       "version_major": 2,
       "version_minor": 0
      },
      "text/plain": [
       "  0%|          | 0/10000 [00:00<?, ?it/s]"
      ]
     },
     "metadata": {},
     "output_type": "display_data"
    },
    {
     "data": {
      "application/vnd.jupyter.widget-view+json": {
       "model_id": "",
       "version_major": 2,
       "version_minor": 0
      },
      "text/plain": [
       "  0%|          | 0/10000 [00:00<?, ?it/s]"
      ]
     },
     "metadata": {},
     "output_type": "display_data"
    },
    {
     "data": {
      "application/vnd.jupyter.widget-view+json": {
       "model_id": "",
       "version_major": 2,
       "version_minor": 0
      },
      "text/plain": [
       "  0%|          | 0/10000 [00:00<?, ?it/s]"
      ]
     },
     "metadata": {},
     "output_type": "display_data"
    },
    {
     "data": {
      "application/vnd.jupyter.widget-view+json": {
       "model_id": "",
       "version_major": 2,
       "version_minor": 0
      },
      "text/plain": [
       "  0%|          | 0/10000 [00:00<?, ?it/s]"
      ]
     },
     "metadata": {},
     "output_type": "display_data"
    },
    {
     "data": {
      "image/png": "[encoded data removed]",
      "text/plain": [
       "<Figure size 432x288 with 1 Axes>"
      ]
     },
     "metadata": {
      "needs_background": "light"
     },
     "output_type": "display_data"
    }
   ],
   "source": [
    "test=sc.s_size(A,0.4)"
   ]
  },
  {
   "cell_type": "code",
   "execution_count": 42,
   "id": "d659a070",
   "metadata": {},
   "outputs": [],
   "source": []
  },
  {
   "cell_type": "code",
   "execution_count": 43,
   "id": "23c93b52",
   "metadata": {},
   "outputs": [
    {
     "name": "stdout",
     "output_type": "stream",
     "text": [
      "338\n"
     ]
    }
   ],
   "source": [
    "max_even(A)"
   ]
  },
  {
   "cell_type": "code",
   "execution_count": 44,
   "id": "d1ce8cbe",
   "metadata": {},
   "outputs": [
    {
     "data": {
      "text/plain": [
       "338"
      ]
     },
     "execution_count": 44,
     "metadata": {},
     "output_type": "execute_result"
    }
   ],
   "source": []
  },
  {
   "cell_type": "code",
   "execution_count": null,
   "id": "503f66a7",
   "metadata": {},
   "outputs": [],
   "source": []
  }
 ],
 "metadata": {
  "kernelspec": {
   "display_name": "Python 3 (ipykernel)",
   "language": "python",
   "name": "python3"
  },
  "language_info": {
   "codemirror_mode": {
    "name": "ipython",
    "version": 3
   },
   "file_extension": ".py",
   "mimetype": "text/x-python",
   "name": "python",
   "nbconvert_exporter": "python",
   "pygments_lexer": "ipython3",
   "version": "3.7.4"
  }
 },
 "nbformat": 4,
 "nbformat_minor": 5
}
