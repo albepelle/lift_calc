{
 "cells": [
  {
   "cell_type": "code",
   "execution_count": 2,
   "id": "06da1f0c",
   "metadata": {},
   "outputs": [],
   "source": [
    "import pandas as pd\n",
    "import numpy as np\n",
    "import statsmodels.stats as st\n",
    "import seaborn as ns\n",
    "import matplotlib.pyplot as plt\n",
    "import teradata \n",
    "udaExec = teradata.UdaExec ()\n",
    "\n",
    "entain=r'C:/Users/apelle/.matplotlib/entain.mplstyle'\n",
    "plt.style.use(entain)\n"
   ]
  },
  {
   "cell_type": "code",
   "execution_count": 3,
   "id": "efdc9163",
   "metadata": {},
   "outputs": [],
   "source": [
    "#casino club are about 165 players and can't be unhosted,\n",
    "#to identify casino club players search for condition: host_agent_team='VIP CasinoClub'"
   ]
  },
  {
   "cell_type": "code",
   "execution_count": 75,
   "id": "10318fc0",
   "metadata": {},
   "outputs": [],
   "source": [
    "query='''\n",
    "WITH CLV AS (\n",
    "SEL TOP 850\n",
    "scores.player_id,\n",
    "scores.snapshot_date,\n",
    "scores.model_score,\n",
    "dc.Country_Desc\n",
    "FROM dwprodviewsppmbi.Model_Daily_scores scores \n",
    "JOIN dim_player dp ON scores.player_id = dp.player_id\n",
    "JOIN Dim_Player_Account dpa ON dpa.player_id = scores.player_id\n",
    "JOIN Dim_Country dc ON dpa.country_Cd=dc.Country_CD\n",
    "LEFT JOIN Dim_Player_Segmentation dps ON dp.player_id = dps.player_id\t\t\t\t\t\t\t\t\t\t\t\t\t\t\n",
    "LEFT JOIN Dim_Product dprod ON dps.Primary_Wh_Product_Cd = dprod.wh_product_cd\t\n",
    "WHERE 1 = 1\n",
    "AND  scores.snapshot_date>=DATE-1\n",
    "AND scores.player_id >0 \n",
    "AND model_description_id IS IN (1,5,9)\n",
    "AND dp.front_end_cd IN ('pp','pi','py','pe') \n",
    "AND dprod.Product_Desc = 'Casino'\n",
    "AND dc.Country_Desc NOT IN ('united kingdom','Finland','Belarus','Russian Federation','Gibraltar','Sweden','Denmark','netherlands')\n",
    "AND model_score >= 4000\n",
    "\n",
    "ORDER BY model_score DESC\n",
    ")\n",
    "\n",
    ",\n",
    "player\n",
    "\n",
    "AS \n",
    "(SEL CASE WHEN clv. player_id IS NULL THEN dplh.player_id ELSE clv.player_id END  player_id,\n",
    "CASE WHEN clv.player_id IS NULL THEN 'NOT IN clv' ELSE 'in_clv' END AS in_out,\n",
    "CASE WHEN dplh.Host_Agent_First_Name='VIP NOT Hosted' THEN 'non hosted picked'\n",
    "WHEN dplh.Host_Agent_First_Name IS NULL THEN 'CLV picked' \n",
    "ELSE 'Managed' END AS player_status\n",
    "\n",
    "FROM clv\n",
    "FULL OUTER JOIN (SEL * FROM DIM_PLAYER_HOST_LOG dplh \n",
    "WHERE host_agent_team IN ('PartyCasino VIP',\n",
    "'Partycasino Vip team') AND host_end_date >= date-1\n",
    " AND host_agent_first_name <> 'VIP NOT Hosted' )  dplh ON clv.player_id=dplh.Player_Id\n",
    ")\n",
    "\n",
    "\n",
    "\n",
    "\n",
    "\n",
    "SEL \n",
    "\n",
    "fps.Player_Id,\n",
    "CASE WHEN player_status='Managed' AND in_out='in_clv' THEN 'interesect'\n",
    "WHEN player_status<>'Managed' THEN 'CLV_only'\n",
    "ELSE 'Managed_only' END AS p_status,\n",
    "SUM(fps.Bet_Amt_GBP) bet_amt,\n",
    "SUM(fps.Bonus_Accrual_Cost_Amt_GBP) bonus_amt,\n",
    "COUNT( DISTINCT CASE WHEN fps.bet_amt_gbp>0 THEN fps.Summary_Date END ) cpd\n",
    "\n",
    "FROM FD_Player_Summary fps \n",
    "right outer JOIN player p ON fps.Player_Id=p.player_id\n",
    "JOIN Dim_Skin ds ON fps.Wh_Skin_Id=ds.Wh_Skin_Id\n",
    "WHERE fps.Summary_Date BETWEEN '2021-12-01' AND '2021-12-31'\n",
    "AND ds.Wh_Product_Cd=2\n",
    "\n",
    "GROUP BY 1,2'''"
   ]
  },
  {
   "cell_type": "code",
   "execution_count": 76,
   "id": "0ab352f1",
   "metadata": {
    "scrolled": true
   },
   "outputs": [],
   "source": [
    "#Run query\n",
    "with udaExec.connect(\"${dataSourceName}\") as session:\n",
    "    \n",
    "    df=pd.read_sql_query(query,session)\n",
    "\n",
    "session.close()"
   ]
  },
  {
   "cell_type": "code",
   "execution_count": 30,
   "id": "79d0b807",
   "metadata": {},
   "outputs": [
    {
     "data": {
      "text/html": [
       "<div>\n",
       "<style scoped>\n",
       "    .dataframe tbody tr th:only-of-type {\n",
       "        vertical-align: middle;\n",
       "    }\n",
       "\n",
       "    .dataframe tbody tr th {\n",
       "        vertical-align: top;\n",
       "    }\n",
       "\n",
       "    .dataframe thead th {\n",
       "        text-align: right;\n",
       "    }\n",
       "</style>\n",
       "<table border=\"1\" class=\"dataframe\">\n",
       "  <thead>\n",
       "    <tr style=\"text-align: right;\">\n",
       "      <th></th>\n",
       "      <th>Player_Id</th>\n",
       "      <th>p_status</th>\n",
       "      <th>bet_amt</th>\n",
       "      <th>bonus_amt</th>\n",
       "      <th>cpd</th>\n",
       "    </tr>\n",
       "  </thead>\n",
       "  <tbody>\n",
       "    <tr>\n",
       "      <th>0</th>\n",
       "      <td>18707372.0</td>\n",
       "      <td>CLV_only</td>\n",
       "      <td>31246.51064</td>\n",
       "      <td>417.02803</td>\n",
       "      <td>28.0</td>\n",
       "    </tr>\n",
       "    <tr>\n",
       "      <th>1</th>\n",
       "      <td>204442185.0</td>\n",
       "      <td>CLV_only</td>\n",
       "      <td>26297.98305</td>\n",
       "      <td>99.34753</td>\n",
       "      <td>12.0</td>\n",
       "    </tr>\n",
       "    <tr>\n",
       "      <th>2</th>\n",
       "      <td>551378148.0</td>\n",
       "      <td>Managed_only</td>\n",
       "      <td>8998.87795</td>\n",
       "      <td>0.00000</td>\n",
       "      <td>5.0</td>\n",
       "    </tr>\n",
       "    <tr>\n",
       "      <th>3</th>\n",
       "      <td>193821339.0</td>\n",
       "      <td>CLV_only</td>\n",
       "      <td>19276.77116</td>\n",
       "      <td>30.51060</td>\n",
       "      <td>10.0</td>\n",
       "    </tr>\n",
       "    <tr>\n",
       "      <th>4</th>\n",
       "      <td>534943794.0</td>\n",
       "      <td>interesect</td>\n",
       "      <td>51007.39565</td>\n",
       "      <td>108.35198</td>\n",
       "      <td>23.0</td>\n",
       "    </tr>\n",
       "  </tbody>\n",
       "</table>\n",
       "</div>"
      ],
      "text/plain": [
       "     Player_Id      p_status      bet_amt  bonus_amt   cpd\n",
       "0   18707372.0      CLV_only  31246.51064  417.02803  28.0\n",
       "1  204442185.0      CLV_only  26297.98305   99.34753  12.0\n",
       "2  551378148.0  Managed_only   8998.87795    0.00000   5.0\n",
       "3  193821339.0      CLV_only  19276.77116   30.51060  10.0\n",
       "4  534943794.0    interesect  51007.39565  108.35198  23.0"
      ]
     },
     "execution_count": 30,
     "metadata": {},
     "output_type": "execute_result"
    }
   ],
   "source": [
    "df.head()"
   ]
  },
  {
   "cell_type": "code",
   "execution_count": 77,
   "id": "161bf904",
   "metadata": {},
   "outputs": [],
   "source": [
    "M=df[df['p_status']=='Managed_only'].Player_Id.count()\n",
    "I=df[df['p_status']=='interesect'].Player_Id.count()\n",
    "C=df[df['p_status']=='CLV_only'].Player_Id.count()"
   ]
  },
  {
   "cell_type": "code",
   "execution_count": 69,
   "id": "f84d0b02",
   "metadata": {},
   "outputs": [],
   "source": [
    "from matplotlib_venn import venn2, venn2_circles, venn2_unweighted\n",
    "from matplotlib_venn import venn3, venn3_circles"
   ]
  },
  {
   "cell_type": "code",
   "execution_count": 38,
   "id": "4621b91c",
   "metadata": {},
   "outputs": [
    {
     "data": {
      "text/plain": [
       "389"
      ]
     },
     "execution_count": 38,
     "metadata": {},
     "output_type": "execute_result"
    }
   ],
   "source": [
    "I"
   ]
  },
  {
   "cell_type": "markdown",
   "id": "ef632ec8",
   "metadata": {},
   "source": [
    "We can see how the number of CLV active players is higher than the number of Managed players, while we know the number of manaaged players is 997 not all of them are active"
   ]
  },
  {
   "cell_type": "code",
   "execution_count": 78,
   "id": "9a28510f",
   "metadata": {},
   "outputs": [
    {
     "data": {
      "image/png": "[encoded data removed]",
      "text/plain": [
       "<Figure size 432x288 with 1 Axes>"
      ]
     },
     "metadata": {},
     "output_type": "display_data"
    }
   ],
   "source": [
    "venn2(subsets = (M,C,I), set_labels = ('Managed', 'CLV'), alpha = 0.5);\n",
    "plt.title('CLV Managed players intersection');"
   ]
  },
  {
   "cell_type": "markdown",
   "id": "46dd4333",
   "metadata": {},
   "source": [
    "Reducing the number in the CLV group to match the number of active players from the Hosted group"
   ]
  },
  {
   "cell_type": "code",
   "execution_count": 90,
   "id": "8ee64606",
   "metadata": {},
   "outputs": [],
   "source": [
    "C2=df[df['p_status']=='CLV_only'].sort_values('bet_amt').head(M).Player_Id.count()"
   ]
  },
  {
   "cell_type": "code",
   "execution_count": 91,
   "id": "61759589",
   "metadata": {},
   "outputs": [
    {
     "data": {
      "image/png": "[encoded data removed]",
      "text/plain": [
       "<Figure size 432x288 with 1 Axes>"
      ]
     },
     "metadata": {},
     "output_type": "display_data"
    }
   ],
   "source": [
    "venn2(subsets = (M,C2,I), set_labels = ('Managed', 'CLV'), alpha = 0.5);\n",
    "plt.title('CLV Managed players intersection');"
   ]
  },
  {
   "cell_type": "markdown",
   "id": "65984ee2",
   "metadata": {},
   "source": [
    " take away intersection to obtain rest of players, c stands for clean"
   ]
  },
  {
   "cell_type": "code",
   "execution_count": 129,
   "id": "c0941e38",
   "metadata": {},
   "outputs": [],
   "source": [
    "df_M=df[df['p_status']=='Managed_only']\n",
    "df_CLV=df[df['p_status']=='CLV_only'].sort_values('bet_amt',ascending=False).head(M)\n",
    "df_c=df_M.append(df_CLV)"
   ]
  },
  {
   "cell_type": "code",
   "execution_count": 130,
   "id": "c7ab4797",
   "metadata": {},
   "outputs": [],
   "source": [
    "df_c.fillna(0,inplace=True)"
   ]
  },
  {
   "cell_type": "code",
   "execution_count": 131,
   "id": "995310b5",
   "metadata": {},
   "outputs": [
    {
     "data": {
      "text/plain": [
       "690"
      ]
     },
     "execution_count": 131,
     "metadata": {},
     "output_type": "execute_result"
    }
   ],
   "source": [
    "len(df_c)"
   ]
  },
  {
   "cell_type": "markdown",
   "id": "4fd82599",
   "metadata": {},
   "source": [
    "create theo NGR"
   ]
  },
  {
   "cell_type": "code",
   "execution_count": 132,
   "id": "12de9f3a",
   "metadata": {},
   "outputs": [],
   "source": [
    "df_c['t_ngr']=(df_c['bet_amt']*0.32)- df_c['bonus_amt']"
   ]
  },
  {
   "cell_type": "code",
   "execution_count": 133,
   "id": "88c02df5",
   "metadata": {},
   "outputs": [
    {
     "data": {
      "text/html": [
       "<div>\n",
       "<style scoped>\n",
       "    .dataframe tbody tr th:only-of-type {\n",
       "        vertical-align: middle;\n",
       "    }\n",
       "\n",
       "    .dataframe tbody tr th {\n",
       "        vertical-align: top;\n",
       "    }\n",
       "\n",
       "    .dataframe thead th {\n",
       "        text-align: right;\n",
       "    }\n",
       "</style>\n",
       "<table border=\"1\" class=\"dataframe\">\n",
       "  <thead>\n",
       "    <tr style=\"text-align: right;\">\n",
       "      <th></th>\n",
       "      <th>Player_Id</th>\n",
       "      <th>bet_amt</th>\n",
       "      <th>bonus_amt</th>\n",
       "      <th>cpd</th>\n",
       "      <th>t_ngr</th>\n",
       "    </tr>\n",
       "  </thead>\n",
       "  <tbody>\n",
       "    <tr>\n",
       "      <th>count</th>\n",
       "      <td>6.900000e+02</td>\n",
       "      <td>6.900000e+02</td>\n",
       "      <td>690.000000</td>\n",
       "      <td>690.000000</td>\n",
       "      <td>690.000000</td>\n",
       "    </tr>\n",
       "    <tr>\n",
       "      <th>mean</th>\n",
       "      <td>4.458838e+08</td>\n",
       "      <td>7.524248e+04</td>\n",
       "      <td>356.027074</td>\n",
       "      <td>15.556522</td>\n",
       "      <td>23721.567931</td>\n",
       "    </tr>\n",
       "    <tr>\n",
       "      <th>std</th>\n",
       "      <td>1.760275e+08</td>\n",
       "      <td>1.643671e+05</td>\n",
       "      <td>814.302041</td>\n",
       "      <td>9.224368</td>\n",
       "      <td>52329.091148</td>\n",
       "    </tr>\n",
       "    <tr>\n",
       "      <th>min</th>\n",
       "      <td>8.921660e+05</td>\n",
       "      <td>0.000000e+00</td>\n",
       "      <td>0.000000</td>\n",
       "      <td>0.000000</td>\n",
       "      <td>-169.619356</td>\n",
       "    </tr>\n",
       "    <tr>\n",
       "      <th>25%</th>\n",
       "      <td>4.136632e+08</td>\n",
       "      <td>1.018432e+04</td>\n",
       "      <td>21.835115</td>\n",
       "      <td>8.000000</td>\n",
       "      <td>3144.798956</td>\n",
       "    </tr>\n",
       "    <tr>\n",
       "      <th>50%</th>\n",
       "      <td>5.347702e+08</td>\n",
       "      <td>3.103316e+04</td>\n",
       "      <td>137.250985</td>\n",
       "      <td>15.000000</td>\n",
       "      <td>9582.695999</td>\n",
       "    </tr>\n",
       "    <tr>\n",
       "      <th>75%</th>\n",
       "      <td>5.568228e+08</td>\n",
       "      <td>6.885320e+04</td>\n",
       "      <td>350.105457</td>\n",
       "      <td>23.000000</td>\n",
       "      <td>21003.821040</td>\n",
       "    </tr>\n",
       "    <tr>\n",
       "      <th>max</th>\n",
       "      <td>5.775991e+08</td>\n",
       "      <td>2.479206e+06</td>\n",
       "      <td>9573.974440</td>\n",
       "      <td>31.000000</td>\n",
       "      <td>792982.701712</td>\n",
       "    </tr>\n",
       "  </tbody>\n",
       "</table>\n",
       "</div>"
      ],
      "text/plain": [
       "          Player_Id       bet_amt    bonus_amt         cpd          t_ngr\n",
       "count  6.900000e+02  6.900000e+02   690.000000  690.000000     690.000000\n",
       "mean   4.458838e+08  7.524248e+04   356.027074   15.556522   23721.567931\n",
       "std    1.760275e+08  1.643671e+05   814.302041    9.224368   52329.091148\n",
       "min    8.921660e+05  0.000000e+00     0.000000    0.000000    -169.619356\n",
       "25%    4.136632e+08  1.018432e+04    21.835115    8.000000    3144.798956\n",
       "50%    5.347702e+08  3.103316e+04   137.250985   15.000000    9582.695999\n",
       "75%    5.568228e+08  6.885320e+04   350.105457   23.000000   21003.821040\n",
       "max    5.775991e+08  2.479206e+06  9573.974440   31.000000  792982.701712"
      ]
     },
     "execution_count": 133,
     "metadata": {},
     "output_type": "execute_result"
    }
   ],
   "source": [
    "df_c.describe()"
   ]
  },
  {
   "cell_type": "markdown",
   "id": "43aa47cf",
   "metadata": {},
   "source": [
    "Check variance for both Bet amt and Theo NGR"
   ]
  },
  {
   "cell_type": "code",
   "execution_count": 134,
   "id": "48a7a618",
   "metadata": {},
   "outputs": [
    {
     "name": "stdout",
     "output_type": "stream",
     "text": [
      "Variance coeffiecents for bet amt:\n",
      "Managed = 290%\n",
      "CLV = 171%\n",
      "\n"
     ]
    },
    {
     "name": "stderr",
     "output_type": "stream",
     "text": [
      "C:\\Users\\apelle\\AppData\\Local\\Continuum\\anaconda3\\lib\\site-packages\\seaborn\\categorical.py:1296: UserWarning: 82.3% of the points cannot be placed; you may want to decrease the size of the markers or use stripplot.\n",
      "  warnings.warn(msg, UserWarning)\n",
      "C:\\Users\\apelle\\AppData\\Local\\Continuum\\anaconda3\\lib\\site-packages\\seaborn\\categorical.py:1296: UserWarning: 62.3% of the points cannot be placed; you may want to decrease the size of the markers or use stripplot.\n",
      "  warnings.warn(msg, UserWarning)\n"
     ]
    },
    {
     "data": {
      "text/plain": [
       "Text(0.5, 1.0, 'Bet variance')"
      ]
     },
     "execution_count": 134,
     "metadata": {},
     "output_type": "execute_result"
    },
    {
     "data": {
      "image/png": "[encoded data removed]",
      "text/plain": [
       "<Figure size 432x288 with 1 Axes>"
      ]
     },
     "metadata": {
      "needs_background": "light"
     },
     "output_type": "display_data"
    }
   ],
   "source": [
    "\n",
    "Y1=df_c[df_c['p_status']=='Managed_only']['bet_amt'].std()/df_c[df_c['p_status']=='Managed_only']['bet_amt'].mean()\n",
    "Y2=df_c[df_c['p_status']!='Managed_only']['bet_amt'].std()/df_c[df_c['p_status']!='Managed_only']['bet_amt'].mean()\n",
    "print('Variance coeffiecents for bet amt:'+'\\n'+\n",
    "     'Managed = ' +str( round(Y1*100) )+'%' +'\\n'+\n",
    "      'CLV = '+str( round(Y2*100) )+'%' +'\\n' )\n",
    "ns.swarmplot(y=df_c.bet_amt,x=df_c.p_status).set_title('Bet variance' )\n",
    "#ns.swarmplot(y=Y2).set_title('Bet variance coefficent for CLV players= '+str(round(Y2.std()/Y2.mean() *100))+'%')\n"
   ]
  },
  {
   "cell_type": "code",
   "execution_count": 120,
   "id": "3bcfabff",
   "metadata": {},
   "outputs": [
    {
     "name": "stdout",
     "output_type": "stream",
     "text": [
      "Variance coeffiecents for bet amt:\n",
      "Managed = 296%\n",
      "CLV = 77%\n",
      "\n"
     ]
    },
    {
     "name": "stderr",
     "output_type": "stream",
     "text": [
      "C:\\Users\\apelle\\AppData\\Local\\Continuum\\anaconda3\\lib\\site-packages\\seaborn\\categorical.py:1296: UserWarning: 72.5% of the points cannot be placed; you may want to decrease the size of the markers or use stripplot.\n",
      "  warnings.warn(msg, UserWarning)\n",
      "C:\\Users\\apelle\\AppData\\Local\\Continuum\\anaconda3\\lib\\site-packages\\seaborn\\categorical.py:1296: UserWarning: 63.8% of the points cannot be placed; you may want to decrease the size of the markers or use stripplot.\n",
      "  warnings.warn(msg, UserWarning)\n"
     ]
    },
    {
     "data": {
      "text/plain": [
       "Text(0.5, 1.0, 'T_NGR variance')"
      ]
     },
     "execution_count": 120,
     "metadata": {},
     "output_type": "execute_result"
    },
    {
     "data": {
      "image/png": "[encoded data removed]",
      "text/plain": [
       "<Figure size 432x288 with 1 Axes>"
      ]
     },
     "metadata": {
      "needs_background": "light"
     },
     "output_type": "display_data"
    }
   ],
   "source": [
    "\n",
    "Y1=df_c[df_c['p_status']=='Managed_only']['t_ngr'].std()/df_c[df_c['p_status']=='Managed_only']['t_ngr'].mean()\n",
    "Y2=df_c[df_c['p_status']!='Managed_only']['t_ngr'].std()/df_c[df_c['p_status']!='Managed_only']['t_ngr'].mean()\n",
    "print('Variance coeffiecents for bet amt:'+'\\n'+\n",
    "     'Managed = ' +str( round(Y1*100) )+'%' +'\\n'+\n",
    "      'CLV = '+str( round(Y2*100) )+'%' +'\\n' )\n",
    "ns.swarmplot(y=df_c.t_ngr,x=df_c.p_status).set_title('T_NGR variance' )\n",
    "#ns.swarmplot(y=Y2).set_title('Bet variance coefficent for CLV players= '+str(round(Y2.std()/Y2.mean() *100))+'%')\n"
   ]
  },
  {
   "cell_type": "markdown",
   "id": "432ddc32",
   "metadata": {},
   "source": [
    "split the 2 groups into Managed (Vito) and CLV picked"
   ]
  },
  {
   "cell_type": "code",
   "execution_count": 135,
   "id": "dace735f",
   "metadata": {},
   "outputs": [],
   "source": [
    "vito=df_c[df_c['p_status']=='Managed_only']\n",
    "CLV=df_c[df_c['p_status']!='Managed_only']"
   ]
  },
  {
   "cell_type": "markdown",
   "id": "e8d0fc05",
   "metadata": {},
   "source": [
    "Altough this isn't going to be what we would normally do in reality we'll remove the outliers using a 3 zscore rule from the managed group and match the number of CLV only players to the final number of Managed players"
   ]
  },
  {
   "cell_type": "code",
   "execution_count": 256,
   "id": "f58339f7",
   "metadata": {},
   "outputs": [
    {
     "data": {
      "text/plain": [
       "339"
      ]
     },
     "execution_count": 256,
     "metadata": {},
     "output_type": "execute_result"
    }
   ],
   "source": [
    "from scipy import stats\n",
    "A=vito[['t_ngr']]\n",
    "A=A[(np.abs(stats.zscore(A)) < 3).all(axis=1)]\n",
    "len(A)\n",
    "\n",
    "               "
   ]
  },
  {
   "cell_type": "markdown",
   "id": "2d9e2343",
   "metadata": {},
   "source": [
    "Removing outliers from the managed players group leaves us with 339 players (we'll take 338 because we need an even split) "
   ]
  },
  {
   "cell_type": "code",
   "execution_count": 257,
   "id": "696888f4",
   "metadata": {},
   "outputs": [],
   "source": [
    "A=A.head(338)"
   ]
  },
  {
   "cell_type": "markdown",
   "id": "9ad77954",
   "metadata": {},
   "source": [
    "we now proceed to match the same amount of players in the CLV group "
   ]
  },
  {
   "cell_type": "code",
   "execution_count": 163,
   "id": "7fde7916",
   "metadata": {},
   "outputs": [],
   "source": [
    "B=CLV[['t_ngr']].sort_values('t_ngr',ascending=False).head(338)"
   ]
  },
  {
   "cell_type": "code",
   "execution_count": 267,
   "id": "f3f6aabc",
   "metadata": {},
   "outputs": [],
   "source": [
    "def s_size(split_group, increase):\n",
    "    ggr_gbp =split_group.values\n",
    "\n",
    "\n",
    "\n",
    "    # define bootstrapping function\n",
    "    def bootstrap_replicate_1d(data, func):\n",
    "        \"\"\"Generate bootstrap replicate of 1D data.\"\"\"\n",
    "     \n",
    "        bs_sample = np.random.choice(data, len(data))\n",
    "        return func(bs_sample)\n",
    "\n",
    "\n",
    "\n",
    "    # create empty dict for the results\n",
    "    test_results = {'sample size':[],'mean control':[],'std_control':[],'std_test':[],'mean test':[],'mean delta':[],\n",
    "                    'delta LB':[],'delta UB':[],'P(T>C)':[]}\n",
    "\n",
    "\n",
    "\n",
    "\n",
    "    # define how many itterations in bootstrapping\n",
    "    samples = 10000\n",
    "\n",
    "\n",
    "    bs_replicates_test = np.empty(samples)\n",
    "    bs_replicates_control = np.empty(samples)\n",
    "\n",
    "    # populate the array with mean values from the test group\n",
    "\n",
    "\n",
    "    for n in range (13,int(len(ggr_gbp)/2),13):\n",
    "        for i in range(samples):\n",
    "            np.random.shuffle(ggr_gbp)\n",
    "\n",
    "            a = ggr_gbp[:n]\n",
    "            b = ggr_gbp[n:n*2]\n",
    "\n",
    "            a=a*(increase)\n",
    "            \n",
    "            #print(np.random.choice(a))\n",
    "\n",
    "            bs_replicates_test[i] = bootstrap_replicate_1d(np.array(a).flatten(),\n",
    "                                                       np.mean)\n",
    "\n",
    "            bs_replicates_control[i] = bootstrap_replicate_1d(np.array(b).flatten(),\n",
    "                                                          np.mean)\n",
    "\n",
    "    # calculate the mean of the test group\n",
    "            mean_test = round(np.mean(bs_replicates_test),2)\n",
    "            std_test=round(bootstrap_replicate_1d(np.array(a).flatten(),np.std),2)\n",
    "\n",
    "    # calculate the mean of the control group\n",
    "            mean_control = round(np.mean(bs_replicates_control),2)\n",
    "            std_control=round(bootstrap_replicate_1d(np.array(b).flatten(),np.std),2)\n",
    "\n",
    "\n",
    "    # calculate the difference in the means (test minus control)\n",
    "            difference_in_mean = bs_replicates_test - bs_replicates_control\n",
    "            mean_diff_in_mean = round(np.mean(difference_in_mean),2)\n",
    "\n",
    "    # calculate the 95% confidence intervals in the difference of the means\n",
    "            cfl_diff_in_mean = round(np.percentile(difference_in_mean,2.5),2)\n",
    "            cfu_diff_in_mean = round(np.percentile(difference_in_mean,97.5),2)\n",
    "\n",
    "    # calculate P(T>C)\n",
    "            prob_test_higher_control = round(np.sum(bs_replicates_test>bs_replicates_control)/samples,2)\n",
    "\n",
    "    # append the results to the dictionary\n",
    "    #test_results['metric'].append(metric)\n",
    "        test_results['sample size'].append(n)\n",
    "        test_results['mean control'].append(mean_control)\n",
    "        test_results['std_control'].append(std_control)\n",
    "        test_results['mean test'].append(mean_test)\n",
    "        test_results['std_test'].append(std_test)\n",
    "        test_results['mean delta'].append(mean_diff_in_mean)\n",
    "        test_results['delta LB'].append(cfl_diff_in_mean)\n",
    "        test_results['delta UB'].append(cfu_diff_in_mean)\n",
    "        test_results['P(T>C)'].append(prob_test_higher_control)\n",
    "\n",
    "    # create the results dataframe from the results dictionary\n",
    "    df_test_results = pd.DataFrame.from_dict(test_results)\n",
    "\n",
    "    return df_test_results\n",
    "    \n"
   ]
  },
  {
   "cell_type": "code",
   "execution_count": 329,
   "id": "068c0a2d",
   "metadata": {},
   "outputs": [],
   "source": [
    "def s_inc(split_group):\n",
    "    ggr_gbp =split_group.values\n",
    "\n",
    "\n",
    "\n",
    "    # define bootstrapping function\n",
    "    def bootstrap_replicate_1d(data, func):\n",
    "        \"\"\"Generate bootstrap replicate of 1D data.\"\"\"\n",
    "     \n",
    "        bs_sample = np.random.choice(data, len(data))\n",
    "        return func(bs_sample)\n",
    "\n",
    "\n",
    "\n",
    "    # create empty dict for the results\n",
    "    test_results = {'increase':[],'mean control':[],'std_control':[],'std_test':[],'mean test':[],'mean delta':[],\n",
    "                    'delta LB':[],'delta UB':[],'P(T>C)':[]}\n",
    "\n",
    "\n",
    "\n",
    "\n",
    "    # define how many itterations in bootstrapping\n",
    "    samples = 10000\n",
    "\n",
    "\n",
    "    bs_replicates_test = np.empty(samples)\n",
    "    bs_replicates_control = np.empty(samples)\n",
    "\n",
    "    # populate the array with mean values from the test group\n",
    "\n",
    "    import tqdm as tn\n",
    "    for n in tn.tqdm_notebook(range (5,60,5)):\n",
    "        for i in tn.tqdm_notebook(range(samples),leave=bool(n == 55)):\n",
    "            np.random.shuffle(ggr_gbp)\n",
    "                \n",
    "            a = ggr_gbp[:int(len(ggr_gbp)/2)]\n",
    "            b = ggr_gbp[int(len(ggr_gbp)/2)+1:]\n",
    "\n",
    "            a=a*(1+(n/100))\n",
    "            \n",
    "            #print(np.random.choice(a))\n",
    "\n",
    "            bs_replicates_test[i] = bootstrap_replicate_1d(np.array(a).flatten(),\n",
    "                                                       np.mean)\n",
    "\n",
    "            bs_replicates_control[i] = bootstrap_replicate_1d(np.array(b).flatten(),\n",
    "                                                          np.mean)\n",
    "\n",
    "    # calculate the mean of the test group\n",
    "            mean_test = round(np.mean(bs_replicates_test),2)\n",
    "            std_test=round(bootstrap_replicate_1d(np.array(a).flatten(),np.std),2)\n",
    "\n",
    "    # calculate the mean of the control group\n",
    "            mean_control = round(np.mean(bs_replicates_control),2)\n",
    "            std_control=round(bootstrap_replicate_1d(np.array(b).flatten(),np.std),2)\n",
    "\n",
    "\n",
    "    # calculate the difference in the means (test minus control)\n",
    "            difference_in_mean = bs_replicates_test - bs_replicates_control\n",
    "            mean_diff_in_mean = round(np.mean(difference_in_mean),2)\n",
    "\n",
    "    # calculate the 95% confidence intervals in the difference of the means\n",
    "            cfl_diff_in_mean = round(np.percentile(difference_in_mean,2.5),2)\n",
    "            cfu_diff_in_mean = round(np.percentile(difference_in_mean,97.5),2)\n",
    "\n",
    "    # calculate P(T>C)\n",
    "            prob_test_higher_control = round(np.sum(bs_replicates_test>bs_replicates_control)/samples,2)\n",
    "\n",
    "    # append the results to the dictionary\n",
    "    #test_results['metric'].append(metric)\n",
    "        test_results['increase'].append(n)\n",
    "        test_results['mean control'].append(mean_control)\n",
    "        test_results['std_control'].append(std_control)\n",
    "        test_results['mean test'].append(mean_test)\n",
    "        test_results['std_test'].append(std_test)\n",
    "        test_results['mean delta'].append(mean_diff_in_mean)\n",
    "        test_results['delta LB'].append(cfl_diff_in_mean)\n",
    "        test_results['delta UB'].append(cfu_diff_in_mean)\n",
    "        test_results['P(T>C)'].append(prob_test_higher_control)\n",
    "        \n",
    "        \n",
    "\n",
    "\n",
    "    # create the results dataframe from the results dictionary\n",
    "    df_test_results = pd.DataFrame.from_dict(test_results)\n",
    "    \n",
    "    #plotting\n",
    "        \n",
    "    fig=df_test_results[['increase','''P(T>C)''']].set_index('increase').plot()\n",
    "    plt.ylabel('Probability Test > Control')\n",
    "    IND=min(range(len(df_test_results['''P(T>C)'''])), key=lambda i: abs(df_test_results['''P(T>C)'''][i]-0.9))\n",
    "    plt.axhline(0.9,color='darkblue',linestyle =\"--\")\n",
    "\n",
    "    plt.axvline(df_test_results['increase'][IND],color='darkblue',linestyle =\"--\")\n",
    "    plt.title('probability test vs control with sample size of: ' +str(int(len(ggr_gbp)/2) ) )\n",
    "    \n",
    "\n",
    "    return df_test_results\n",
    "    \n"
   ]
  },
  {
   "cell_type": "code",
   "execution_count": null,
   "id": "40e1b2d1",
   "metadata": {},
   "outputs": [
    {
     "name": "stderr",
     "output_type": "stream",
     "text": [
      "C:\\Users\\apelle\\AppData\\Local\\Continuum\\anaconda3\\lib\\site-packages\\ipykernel_launcher.py:32: TqdmDeprecationWarning: This function will be removed in tqdm==5.0.0\n",
      "Please use `tqdm.notebook.tqdm` instead of `tqdm.tqdm_notebook`\n"
     ]
    },
    {
     "data": {
      "application/vnd.jupyter.widget-view+json": {
       "model_id": "4d63cbde591946ecbbf10c611b80cb26",
       "version_major": 2,
       "version_minor": 0
      },
      "text/plain": [
       "  0%|          | 0/11 [00:00<?, ?it/s]"
      ]
     },
     "metadata": {},
     "output_type": "display_data"
    },
    {
     "name": "stderr",
     "output_type": "stream",
     "text": [
      "C:\\Users\\apelle\\AppData\\Local\\Continuum\\anaconda3\\lib\\site-packages\\ipykernel_launcher.py:33: TqdmDeprecationWarning: This function will be removed in tqdm==5.0.0\n",
      "Please use `tqdm.notebook.tqdm` instead of `tqdm.tqdm_notebook`\n"
     ]
    },
    {
     "data": {
      "application/vnd.jupyter.widget-view+json": {
       "model_id": "",
       "version_major": 2,
       "version_minor": 0
      },
      "text/plain": [
       "  0%|          | 0/10000 [00:00<?, ?it/s]"
      ]
     },
     "metadata": {},
     "output_type": "display_data"
    },
    {
     "data": {
      "application/vnd.jupyter.widget-view+json": {
       "model_id": "",
       "version_major": 2,
       "version_minor": 0
      },
      "text/plain": [
       "  0%|          | 0/10000 [00:00<?, ?it/s]"
      ]
     },
     "metadata": {},
     "output_type": "display_data"
    },
    {
     "data": {
      "application/vnd.jupyter.widget-view+json": {
       "model_id": "",
       "version_major": 2,
       "version_minor": 0
      },
      "text/plain": [
       "  0%|          | 0/10000 [00:00<?, ?it/s]"
      ]
     },
     "metadata": {},
     "output_type": "display_data"
    },
    {
     "data": {
      "application/vnd.jupyter.widget-view+json": {
       "model_id": "",
       "version_major": 2,
       "version_minor": 0
      },
      "text/plain": [
       "  0%|          | 0/10000 [00:00<?, ?it/s]"
      ]
     },
     "metadata": {},
     "output_type": "display_data"
    },
    {
     "data": {
      "application/vnd.jupyter.widget-view+json": {
       "model_id": "",
       "version_major": 2,
       "version_minor": 0
      },
      "text/plain": [
       "  0%|          | 0/10000 [00:00<?, ?it/s]"
      ]
     },
     "metadata": {},
     "output_type": "display_data"
    },
    {
     "data": {
      "application/vnd.jupyter.widget-view+json": {
       "model_id": "",
       "version_major": 2,
       "version_minor": 0
      },
      "text/plain": [
       "  0%|          | 0/10000 [00:00<?, ?it/s]"
      ]
     },
     "metadata": {},
     "output_type": "display_data"
    },
    {
     "data": {
      "application/vnd.jupyter.widget-view+json": {
       "model_id": "",
       "version_major": 2,
       "version_minor": 0
      },
      "text/plain": [
       "  0%|          | 0/10000 [00:00<?, ?it/s]"
      ]
     },
     "metadata": {},
     "output_type": "display_data"
    },
    {
     "data": {
      "application/vnd.jupyter.widget-view+json": {
       "model_id": "",
       "version_major": 2,
       "version_minor": 0
      },
      "text/plain": [
       "  0%|          | 0/10000 [00:00<?, ?it/s]"
      ]
     },
     "metadata": {},
     "output_type": "display_data"
    },
    {
     "data": {
      "application/vnd.jupyter.widget-view+json": {
       "model_id": "1fbb5c6a3c9b444c95f1de7354e55722",
       "version_major": 2,
       "version_minor": 0
      },
      "text/plain": [
       "  0%|          | 0/10000 [00:00<?, ?it/s]"
      ]
     },
     "metadata": {},
     "output_type": "display_data"
    }
   ],
   "source": [
    "test=s_inc(A)"
   ]
  },
  {
   "cell_type": "code",
   "execution_count": 4,
   "id": "18713c38",
   "metadata": {},
   "outputs": [
    {
     "ename": "SyntaxError",
     "evalue": "invalid syntax (Temp/ipykernel_53692/812609019.py, line 4)",
     "output_type": "error",
     "traceback": [
      "\u001b[1;36m  File \u001b[1;32m\"C:\\Users\\apelle\\AppData\\Local\\Temp/ipykernel_53692/812609019.py\"\u001b[1;36m, line \u001b[1;32m4\u001b[0m\n\u001b[1;33m    if (i % 2) == 0:\u001b[0m\n\u001b[1;37m                   ^\u001b[0m\n\u001b[1;31mSyntaxError\u001b[0m\u001b[1;31m:\u001b[0m invalid syntax\n"
     ]
    }
   ],
   "source": [
    "\n",
    "def max_even(data):\n",
    "    L=[]\n",
    "    for i in reversed (range (len(data),0,1)\n",
    "    if (i % 2) == 0:\n",
    "        L.append(i)\n",
    "print (max(L))\n",
    "        "
   ]
  },
  {
   "cell_type": "code",
   "execution_count": null,
   "id": "e93de68a",
   "metadata": {},
   "outputs": [],
   "source": []
  }
 ],
 "metadata": {
  "kernelspec": {
   "display_name": "Python 3 (ipykernel)",
   "language": "python",
   "name": "python3"
  },
  "language_info": {
   "codemirror_mode": {
    "name": "ipython",
    "version": 3
   },
   "file_extension": ".py",
   "mimetype": "text/x-python",
   "name": "python",
   "nbconvert_exporter": "python",
   "pygments_lexer": "ipython3",
   "version": "3.7.4"
  }
 },
 "nbformat": 4,
 "nbformat_minor": 5
}
